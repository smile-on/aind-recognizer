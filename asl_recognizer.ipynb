{
 "cells": [
  {
   "cell_type": "markdown",
   "metadata": {
    "collapsed": true,
    "deletable": true,
    "editable": true
   },
   "source": [
    "# Artificial Intelligence Engineer Nanodegree - Probabilistic Models\n",
    "## Project: Sign Language Recognition System\n",
    "- [Introduction](#intro)\n",
    "- [Part 1 Feature Selection](#part1_tutorial)\n",
    "    - [Tutorial](#part1_tutorial)\n",
    "    - [Features Submission](#part1_submission)\n",
    "    - [Features Unittest](#part1_test)\n",
    "- [Part 2 Train the models](#part2_tutorial)\n",
    "    - [Tutorial](#part2_tutorial)\n",
    "    - [Model Selection Score Submission](#part2_submission)\n",
    "    - [Model Score Unittest](#part2_test)\n",
    "- [Part 3 Build a Recognizer](#part3_tutorial)\n",
    "    - [Tutorial](#part3_tutorial)\n",
    "    - [Recognizer Submission](#part3_submission)\n",
    "    - [Recognizer Unittest](#part3_test)\n",
    "- [Part 4 (OPTIONAL) Improve the WER with Language Models](#part4_info)"
   ]
  },
  {
   "cell_type": "markdown",
   "metadata": {
    "deletable": true,
    "editable": true
   },
   "source": [
    "<a id='intro'></a>\n",
    "## Introduction\n",
    "The overall goal of this project is to build a word recognizer for American Sign Language video sequences, demonstrating the power of probabalistic models.  In particular, this project employs  [hidden Markov models (HMM's)](https://en.wikipedia.org/wiki/Hidden_Markov_model) to analyze a series of measurements taken from videos of American Sign Language (ASL) collected for research (see the [RWTH-BOSTON-104 Database](http://www-i6.informatik.rwth-aachen.de/~dreuw/database-rwth-boston-104.php)).  In this video, the right-hand x and y locations are plotted as the speaker signs the sentence.\n",
    "[![ASLR demo](http://www-i6.informatik.rwth-aachen.de/~dreuw/images/demosample.png)](https://drive.google.com/open?id=0B_5qGuFe-wbhUXRuVnNZVnMtam8)\n",
    "\n",
    "The raw data, train, and test sets are pre-defined.  You will derive a variety of feature sets (explored in Part 1), as well as implement three different model selection criterion to determine the optimal number of hidden states for each word model (explored in Part 2). Finally, in Part 3 you will implement the recognizer and compare the effects the different combinations of feature sets and model selection criteria.  \n",
    "\n",
    "At the end of each Part, complete the submission cells with implementations, answer all questions, and pass the unit tests.  Then submit the completed notebook for review!"
   ]
  },
  {
   "cell_type": "markdown",
   "metadata": {
    "deletable": true,
    "editable": true
   },
   "source": [
    "<a id='part1_tutorial'></a>\n",
    "## PART 1: Data\n",
    "\n",
    "### Features Tutorial\n",
    "##### Load the initial database\n",
    "A data handler designed for this database is provided in the student codebase as the `AslDb` class in the `asl_data` module.  This handler creates the initial [pandas](http://pandas.pydata.org/pandas-docs/stable/) dataframe from the corpus of data included in the `data` directory as well as dictionaries suitable for extracting data in a format friendly to the [hmmlearn](https://hmmlearn.readthedocs.io/en/latest/) library.  We'll use those to create models in Part 2.\n",
    "\n",
    "To start, let's set up the initial database and select an example set of features for the training set.  At the end of Part 1, you will create additional feature sets for experimentation. "
   ]
  },
  {
   "cell_type": "code",
   "execution_count": 1,
   "metadata": {
    "collapsed": false,
    "deletable": true,
    "editable": true
   },
   "outputs": [
    {
     "data": {
      "text/html": [
       "<div>\n",
       "<table border=\"1\" class=\"dataframe\">\n",
       "  <thead>\n",
       "    <tr style=\"text-align: right;\">\n",
       "      <th></th>\n",
       "      <th></th>\n",
       "      <th>left-x</th>\n",
       "      <th>left-y</th>\n",
       "      <th>right-x</th>\n",
       "      <th>right-y</th>\n",
       "      <th>nose-x</th>\n",
       "      <th>nose-y</th>\n",
       "      <th>speaker</th>\n",
       "    </tr>\n",
       "    <tr>\n",
       "      <th>video</th>\n",
       "      <th>frame</th>\n",
       "      <th></th>\n",
       "      <th></th>\n",
       "      <th></th>\n",
       "      <th></th>\n",
       "      <th></th>\n",
       "      <th></th>\n",
       "      <th></th>\n",
       "    </tr>\n",
       "  </thead>\n",
       "  <tbody>\n",
       "    <tr>\n",
       "      <th rowspan=\"5\" valign=\"top\">98</th>\n",
       "      <th>0</th>\n",
       "      <td>149</td>\n",
       "      <td>181</td>\n",
       "      <td>170</td>\n",
       "      <td>175</td>\n",
       "      <td>161</td>\n",
       "      <td>62</td>\n",
       "      <td>woman-1</td>\n",
       "    </tr>\n",
       "    <tr>\n",
       "      <th>1</th>\n",
       "      <td>149</td>\n",
       "      <td>181</td>\n",
       "      <td>170</td>\n",
       "      <td>175</td>\n",
       "      <td>161</td>\n",
       "      <td>62</td>\n",
       "      <td>woman-1</td>\n",
       "    </tr>\n",
       "    <tr>\n",
       "      <th>2</th>\n",
       "      <td>149</td>\n",
       "      <td>181</td>\n",
       "      <td>170</td>\n",
       "      <td>175</td>\n",
       "      <td>161</td>\n",
       "      <td>62</td>\n",
       "      <td>woman-1</td>\n",
       "    </tr>\n",
       "    <tr>\n",
       "      <th>3</th>\n",
       "      <td>149</td>\n",
       "      <td>181</td>\n",
       "      <td>170</td>\n",
       "      <td>175</td>\n",
       "      <td>161</td>\n",
       "      <td>62</td>\n",
       "      <td>woman-1</td>\n",
       "    </tr>\n",
       "    <tr>\n",
       "      <th>4</th>\n",
       "      <td>149</td>\n",
       "      <td>181</td>\n",
       "      <td>170</td>\n",
       "      <td>175</td>\n",
       "      <td>161</td>\n",
       "      <td>62</td>\n",
       "      <td>woman-1</td>\n",
       "    </tr>\n",
       "  </tbody>\n",
       "</table>\n",
       "</div>"
      ],
      "text/plain": [
       "             left-x  left-y  right-x  right-y  nose-x  nose-y  speaker\n",
       "video frame                                                           \n",
       "98    0         149     181      170      175     161      62  woman-1\n",
       "      1         149     181      170      175     161      62  woman-1\n",
       "      2         149     181      170      175     161      62  woman-1\n",
       "      3         149     181      170      175     161      62  woman-1\n",
       "      4         149     181      170      175     161      62  woman-1"
      ]
     },
     "execution_count": 1,
     "metadata": {},
     "output_type": "execute_result"
    }
   ],
   "source": [
    "import numpy as np\n",
    "import pandas as pd\n",
    "from asl_data import AslDb\n",
    "\n",
    "\n",
    "asl = AslDb() # initializes the database\n",
    "asl.df.head() # displays the first five rows of the asl database, indexed by video and frame"
   ]
  },
  {
   "cell_type": "code",
   "execution_count": 9,
   "metadata": {
    "collapsed": false,
    "deletable": true,
    "editable": true
   },
   "outputs": [
    {
     "data": {
      "text/plain": [
       "left-x         149\n",
       "left-y         181\n",
       "right-x        170\n",
       "right-y        175\n",
       "nose-x         161\n",
       "nose-y          62\n",
       "speaker    woman-1\n",
       "Name: (98, 1), dtype: object"
      ]
     },
     "execution_count": 9,
     "metadata": {},
     "output_type": "execute_result"
    }
   ],
   "source": [
    "asl.df.ix[98,1]  # look at the data available for an individual frame"
   ]
  },
  {
   "cell_type": "markdown",
   "metadata": {
    "deletable": true,
    "editable": true
   },
   "source": [
    "The frame represented by video 98, frame 1 is shown here:\n",
    "![Video 98](http://www-i6.informatik.rwth-aachen.de/~dreuw/database/rwth-boston-104/overview/images/orig/098-start.jpg)"
   ]
  },
  {
   "cell_type": "markdown",
   "metadata": {
    "deletable": true,
    "editable": true
   },
   "source": [
    "##### Feature selection for training the model\n",
    "The objective of feature selection when training a model is to choose the most relevant variables while keeping the model as simple as possible, thus reducing training time.  We can use the raw features already provided or derive our own and add columns to the pandas dataframe `asl.df` for selection. As an example, in the next cell a feature named `'grnd-ry'` is added. This feature is the difference between the right-hand y value and the nose y value, which serves as the \"ground\" right y value. "
   ]
  },
  {
   "cell_type": "code",
   "execution_count": 2,
   "metadata": {
    "collapsed": false,
    "deletable": true,
    "editable": true
   },
   "outputs": [
    {
     "data": {
      "text/html": [
       "<div>\n",
       "<table border=\"1\" class=\"dataframe\">\n",
       "  <thead>\n",
       "    <tr style=\"text-align: right;\">\n",
       "      <th></th>\n",
       "      <th></th>\n",
       "      <th>left-x</th>\n",
       "      <th>left-y</th>\n",
       "      <th>right-x</th>\n",
       "      <th>right-y</th>\n",
       "      <th>nose-x</th>\n",
       "      <th>nose-y</th>\n",
       "      <th>speaker</th>\n",
       "      <th>grnd-ry</th>\n",
       "    </tr>\n",
       "    <tr>\n",
       "      <th>video</th>\n",
       "      <th>frame</th>\n",
       "      <th></th>\n",
       "      <th></th>\n",
       "      <th></th>\n",
       "      <th></th>\n",
       "      <th></th>\n",
       "      <th></th>\n",
       "      <th></th>\n",
       "      <th></th>\n",
       "    </tr>\n",
       "  </thead>\n",
       "  <tbody>\n",
       "    <tr>\n",
       "      <th rowspan=\"10\" valign=\"top\">99</th>\n",
       "      <th>8</th>\n",
       "      <td>144</td>\n",
       "      <td>181</td>\n",
       "      <td>171</td>\n",
       "      <td>174</td>\n",
       "      <td>161</td>\n",
       "      <td>57</td>\n",
       "      <td>woman-1</td>\n",
       "      <td>117</td>\n",
       "    </tr>\n",
       "    <tr>\n",
       "      <th>9</th>\n",
       "      <td>144</td>\n",
       "      <td>181</td>\n",
       "      <td>168</td>\n",
       "      <td>163</td>\n",
       "      <td>161</td>\n",
       "      <td>57</td>\n",
       "      <td>woman-1</td>\n",
       "      <td>106</td>\n",
       "    </tr>\n",
       "    <tr>\n",
       "      <th>10</th>\n",
       "      <td>144</td>\n",
       "      <td>181</td>\n",
       "      <td>169</td>\n",
       "      <td>153</td>\n",
       "      <td>161</td>\n",
       "      <td>57</td>\n",
       "      <td>woman-1</td>\n",
       "      <td>96</td>\n",
       "    </tr>\n",
       "    <tr>\n",
       "      <th>11</th>\n",
       "      <td>144</td>\n",
       "      <td>181</td>\n",
       "      <td>169</td>\n",
       "      <td>147</td>\n",
       "      <td>161</td>\n",
       "      <td>57</td>\n",
       "      <td>woman-1</td>\n",
       "      <td>90</td>\n",
       "    </tr>\n",
       "    <tr>\n",
       "      <th>12</th>\n",
       "      <td>144</td>\n",
       "      <td>181</td>\n",
       "      <td>169</td>\n",
       "      <td>127</td>\n",
       "      <td>161</td>\n",
       "      <td>57</td>\n",
       "      <td>woman-1</td>\n",
       "      <td>70</td>\n",
       "    </tr>\n",
       "    <tr>\n",
       "      <th>13</th>\n",
       "      <td>144</td>\n",
       "      <td>181</td>\n",
       "      <td>160</td>\n",
       "      <td>117</td>\n",
       "      <td>161</td>\n",
       "      <td>57</td>\n",
       "      <td>woman-1</td>\n",
       "      <td>60</td>\n",
       "    </tr>\n",
       "    <tr>\n",
       "      <th>14</th>\n",
       "      <td>144</td>\n",
       "      <td>181</td>\n",
       "      <td>153</td>\n",
       "      <td>109</td>\n",
       "      <td>161</td>\n",
       "      <td>57</td>\n",
       "      <td>woman-1</td>\n",
       "      <td>52</td>\n",
       "    </tr>\n",
       "    <tr>\n",
       "      <th>15</th>\n",
       "      <td>144</td>\n",
       "      <td>181</td>\n",
       "      <td>154</td>\n",
       "      <td>101</td>\n",
       "      <td>161</td>\n",
       "      <td>57</td>\n",
       "      <td>woman-1</td>\n",
       "      <td>44</td>\n",
       "    </tr>\n",
       "    <tr>\n",
       "      <th>16</th>\n",
       "      <td>144</td>\n",
       "      <td>181</td>\n",
       "      <td>153</td>\n",
       "      <td>95</td>\n",
       "      <td>161</td>\n",
       "      <td>57</td>\n",
       "      <td>woman-1</td>\n",
       "      <td>38</td>\n",
       "    </tr>\n",
       "    <tr>\n",
       "      <th>17</th>\n",
       "      <td>144</td>\n",
       "      <td>181</td>\n",
       "      <td>153</td>\n",
       "      <td>95</td>\n",
       "      <td>161</td>\n",
       "      <td>57</td>\n",
       "      <td>woman-1</td>\n",
       "      <td>38</td>\n",
       "    </tr>\n",
       "  </tbody>\n",
       "</table>\n",
       "</div>"
      ],
      "text/plain": [
       "             left-x  left-y  right-x  right-y  nose-x  nose-y  speaker  \\\n",
       "video frame                                                              \n",
       "99    8         144     181      171      174     161      57  woman-1   \n",
       "      9         144     181      168      163     161      57  woman-1   \n",
       "      10        144     181      169      153     161      57  woman-1   \n",
       "      11        144     181      169      147     161      57  woman-1   \n",
       "      12        144     181      169      127     161      57  woman-1   \n",
       "      13        144     181      160      117     161      57  woman-1   \n",
       "      14        144     181      153      109     161      57  woman-1   \n",
       "      15        144     181      154      101     161      57  woman-1   \n",
       "      16        144     181      153       95     161      57  woman-1   \n",
       "      17        144     181      153       95     161      57  woman-1   \n",
       "\n",
       "             grnd-ry  \n",
       "video frame           \n",
       "99    8          117  \n",
       "      9          106  \n",
       "      10          96  \n",
       "      11          90  \n",
       "      12          70  \n",
       "      13          60  \n",
       "      14          52  \n",
       "      15          44  \n",
       "      16          38  \n",
       "      17          38  "
      ]
     },
     "execution_count": 2,
     "metadata": {},
     "output_type": "execute_result"
    }
   ],
   "source": [
    "asl.df['grnd-ry'] = asl.df['right-y'] - asl.df['nose-y']\n",
    "asl.df[107:117]  # the new feature 'grnd-ry' is now in the frames dictionary"
   ]
  },
  {
   "cell_type": "markdown",
   "metadata": {
    "deletable": true,
    "editable": true
   },
   "source": [
    "##### Try it!"
   ]
  },
  {
   "cell_type": "code",
   "execution_count": 3,
   "metadata": {
    "collapsed": false,
    "deletable": true,
    "editable": true
   },
   "outputs": [
    {
     "name": "stdout",
     "output_type": "stream",
     "text": [
      "asl.df sample\n"
     ]
    },
    {
     "data": {
      "text/html": [
       "<div>\n",
       "<table border=\"1\" class=\"dataframe\">\n",
       "  <thead>\n",
       "    <tr style=\"text-align: right;\">\n",
       "      <th></th>\n",
       "      <th></th>\n",
       "      <th>left-x</th>\n",
       "      <th>left-y</th>\n",
       "      <th>right-x</th>\n",
       "      <th>right-y</th>\n",
       "      <th>nose-x</th>\n",
       "      <th>nose-y</th>\n",
       "      <th>speaker</th>\n",
       "      <th>grnd-ry</th>\n",
       "      <th>grnd-rx</th>\n",
       "      <th>grnd-ly</th>\n",
       "      <th>grnd-lx</th>\n",
       "    </tr>\n",
       "    <tr>\n",
       "      <th>video</th>\n",
       "      <th>frame</th>\n",
       "      <th></th>\n",
       "      <th></th>\n",
       "      <th></th>\n",
       "      <th></th>\n",
       "      <th></th>\n",
       "      <th></th>\n",
       "      <th></th>\n",
       "      <th></th>\n",
       "      <th></th>\n",
       "      <th></th>\n",
       "      <th></th>\n",
       "    </tr>\n",
       "  </thead>\n",
       "  <tbody>\n",
       "    <tr>\n",
       "      <th rowspan=\"5\" valign=\"top\">98</th>\n",
       "      <th>0</th>\n",
       "      <td>149</td>\n",
       "      <td>181</td>\n",
       "      <td>170</td>\n",
       "      <td>175</td>\n",
       "      <td>161</td>\n",
       "      <td>62</td>\n",
       "      <td>woman-1</td>\n",
       "      <td>113</td>\n",
       "      <td>9</td>\n",
       "      <td>119</td>\n",
       "      <td>-12</td>\n",
       "    </tr>\n",
       "    <tr>\n",
       "      <th>1</th>\n",
       "      <td>149</td>\n",
       "      <td>181</td>\n",
       "      <td>170</td>\n",
       "      <td>175</td>\n",
       "      <td>161</td>\n",
       "      <td>62</td>\n",
       "      <td>woman-1</td>\n",
       "      <td>113</td>\n",
       "      <td>9</td>\n",
       "      <td>119</td>\n",
       "      <td>-12</td>\n",
       "    </tr>\n",
       "    <tr>\n",
       "      <th>2</th>\n",
       "      <td>149</td>\n",
       "      <td>181</td>\n",
       "      <td>170</td>\n",
       "      <td>175</td>\n",
       "      <td>161</td>\n",
       "      <td>62</td>\n",
       "      <td>woman-1</td>\n",
       "      <td>113</td>\n",
       "      <td>9</td>\n",
       "      <td>119</td>\n",
       "      <td>-12</td>\n",
       "    </tr>\n",
       "    <tr>\n",
       "      <th>3</th>\n",
       "      <td>149</td>\n",
       "      <td>181</td>\n",
       "      <td>170</td>\n",
       "      <td>175</td>\n",
       "      <td>161</td>\n",
       "      <td>62</td>\n",
       "      <td>woman-1</td>\n",
       "      <td>113</td>\n",
       "      <td>9</td>\n",
       "      <td>119</td>\n",
       "      <td>-12</td>\n",
       "    </tr>\n",
       "    <tr>\n",
       "      <th>4</th>\n",
       "      <td>149</td>\n",
       "      <td>181</td>\n",
       "      <td>170</td>\n",
       "      <td>175</td>\n",
       "      <td>161</td>\n",
       "      <td>62</td>\n",
       "      <td>woman-1</td>\n",
       "      <td>113</td>\n",
       "      <td>9</td>\n",
       "      <td>119</td>\n",
       "      <td>-12</td>\n",
       "    </tr>\n",
       "  </tbody>\n",
       "</table>\n",
       "</div>"
      ],
      "text/plain": [
       "             left-x  left-y  right-x  right-y  nose-x  nose-y  speaker  \\\n",
       "video frame                                                              \n",
       "98    0         149     181      170      175     161      62  woman-1   \n",
       "      1         149     181      170      175     161      62  woman-1   \n",
       "      2         149     181      170      175     161      62  woman-1   \n",
       "      3         149     181      170      175     161      62  woman-1   \n",
       "      4         149     181      170      175     161      62  woman-1   \n",
       "\n",
       "             grnd-ry  grnd-rx  grnd-ly  grnd-lx  \n",
       "video frame                                      \n",
       "98    0          113        9      119      -12  \n",
       "      1          113        9      119      -12  \n",
       "      2          113        9      119      -12  \n",
       "      3          113        9      119      -12  \n",
       "      4          113        9      119      -12  "
      ]
     },
     "metadata": {},
     "output_type": "display_data"
    },
    {
     "data": {
      "text/html": [
       "<font color=green>Correct!</font><br/>"
      ],
      "text/plain": [
       "<IPython.core.display.HTML object>"
      ]
     },
     "execution_count": 3,
     "metadata": {},
     "output_type": "execute_result"
    }
   ],
   "source": [
    "from asl_utils import test_features_tryit\n",
    "# TODO add df columns for 'grnd-rx', 'grnd-ly', 'grnd-lx' representing differences between hand and nose locations\n",
    "asl.df['grnd-rx'] = asl.df['right-x'] - asl.df['nose-x']\n",
    "asl.df['grnd-ly'] = asl.df['left-y'] - asl.df['nose-y']\n",
    "asl.df['grnd-lx'] = asl.df['left-x'] - asl.df['nose-x']\n",
    "# test the code\n",
    "test_features_tryit(asl)"
   ]
  },
  {
   "cell_type": "code",
   "execution_count": 4,
   "metadata": {
    "collapsed": false,
    "deletable": true,
    "editable": true
   },
   "outputs": [
    {
     "data": {
      "text/plain": [
       "[9, 113, -12, 119]"
      ]
     },
     "execution_count": 4,
     "metadata": {},
     "output_type": "execute_result"
    }
   ],
   "source": [
    "# collect the features into a list\n",
    "features_ground = ['grnd-rx','grnd-ry','grnd-lx','grnd-ly']\n",
    " #show a single set of features for a given (video, frame) tuple\n",
    "[asl.df.ix[98,2][v] for v in features_ground]"
   ]
  },
  {
   "cell_type": "markdown",
   "metadata": {
    "deletable": true,
    "editable": true
   },
   "source": [
    "##### Build the training set\n",
    "Now that we have a feature list defined, we can pass that list to the `build_training` method to collect the features for all the words in the training set.  Each word in the training set has multiple examples from various videos.  Below we can see the unique words that have been loaded into the training set:"
   ]
  },
  {
   "cell_type": "code",
   "execution_count": 5,
   "metadata": {
    "collapsed": false,
    "deletable": true,
    "editable": true
   },
   "outputs": [
    {
     "name": "stdout",
     "output_type": "stream",
     "text": [
      "Training words: ['JOHN', 'WRITE', 'HOMEWORK', 'IX-1P', 'SEE', 'YESTERDAY', 'IX', 'LOVE', 'MARY', 'CAN', 'GO', 'GO1', 'FUTURE', 'GO2', 'PARTY', 'FUTURE1', 'HIT', 'BLAME', 'FRED', 'FISH', 'WONT', 'EAT', 'BUT', 'CHICKEN', 'VEGETABLE', 'CHINA', 'PEOPLE', 'PREFER', 'BROCCOLI', 'LIKE', 'LEAVE', 'SAY', 'BUY', 'HOUSE', 'KNOW', 'CORN', 'CORN1', 'THINK', 'NOT', 'PAST', 'LIVE', 'CHICAGO', 'CAR', 'SHOULD', 'DECIDE', 'VISIT', 'MOVIE', 'WANT', 'SELL', 'TOMORROW', 'NEXT-WEEK', 'NEW-YORK', 'LAST-WEEK', 'WILL', 'FINISH', 'ANN', 'READ', 'BOOK', 'CHOCOLATE', 'FIND', 'SOMETHING-ONE', 'POSS', 'BROTHER', 'ARRIVE', 'HERE', 'GIVE', 'MAN', 'NEW', 'COAT', 'WOMAN', 'GIVE1', 'HAVE', 'FRANK', 'BREAK-DOWN', 'SEARCH-FOR', 'WHO', 'WHAT', 'LEG', 'FRIEND', 'CANDY', 'BLUE', 'SUE', 'BUY1', 'STOLEN', 'OLD', 'STUDENT', 'VIDEOTAPE', 'BORROW', 'MOTHER', 'POTATO', 'TELL', 'BILL', 'THROW', 'APPLE', 'NAME', 'SHOOT', 'SAY-1P', 'SELF', 'GROUP', 'JANA', 'TOY1', 'MANY', 'TOY', 'ALL', 'BOY', 'TEACHER', 'GIRL', 'BOX', 'GIVE2', 'GIVE3', 'GET', 'PUTASIDE'] 112\n"
     ]
    }
   ],
   "source": [
    "training = asl.build_training(features_ground)\n",
    "print(\"Training words: {} {}\".format(training.words, len(training.words)))\n",
    "#print(\"Training words: {}\".format(training._hmm_data))"
   ]
  },
  {
   "cell_type": "markdown",
   "metadata": {
    "deletable": true,
    "editable": true
   },
   "source": [
    "The training data in `training` is an object of class `WordsData` defined in the `asl_data` module.  in addition to the `words` list, data can be accessed with the `get_all_sequences`, `get_all_Xlengths`, `get_word_sequences`, and `get_word_Xlengths` methods. We need the `get_word_Xlengths` method to train multiple sequences with the `hmmlearn` library.  In the following example, notice that there are two lists; the first is a concatenation of all the sequences(the X portion) and the second is a list of the sequence lengths(the Lengths portion)."
   ]
  },
  {
   "cell_type": "code",
   "execution_count": 6,
   "metadata": {
    "collapsed": false,
    "deletable": true,
    "editable": true
   },
   "outputs": [
    {
     "data": {
      "text/plain": [
       "array([[-11,  48,   7, 120],\n",
       "       [-11,  48,   8, 109],\n",
       "       [ -8,  49,  11,  98],\n",
       "       [ -7,  50,   7,  87],\n",
       "       [ -4,  54,   7,  77],\n",
       "       [ -4,  54,   6,  69],\n",
       "       [ -4,  54,   6,  69],\n",
       "       [-13,  52,   6,  69],\n",
       "       [-13,  52,   6,  69],\n",
       "       [ -8,  51,   6,  69],\n",
       "       [ -8,  51,   6,  69],\n",
       "       [ -8,  51,   6,  69],\n",
       "       [ -8,  51,   6,  69],\n",
       "       [ -8,  51,   6,  69],\n",
       "       [-10,  59,   7,  71],\n",
       "       [-15,  64,   9,  77],\n",
       "       [-17,  75,  13,  81],\n",
       "       [ -4,  48,  -4, 113],\n",
       "       [ -2,  53,  -4, 113],\n",
       "       [ -4,  55,   2,  98],\n",
       "       [ -4,  58,   2,  98],\n",
       "       [ -1,  59,   2,  89],\n",
       "       [ -1,  59,  -1,  84],\n",
       "       [ -1,  59,  -1,  84],\n",
       "       [ -7,  63,  -1,  84],\n",
       "       [ -7,  63,  -1,  84],\n",
       "       [ -7,  63,   3,  83],\n",
       "       [ -7,  63,   3,  83],\n",
       "       [ -7,  63,   3,  83],\n",
       "       [ -7,  63,   3,  83],\n",
       "       [ -7,  63,   3,  83],\n",
       "       [ -7,  63,   3,  83],\n",
       "       [ -7,  63,   3,  83],\n",
       "       [ -4,  70,   3,  83],\n",
       "       [ -4,  70,   3,  83],\n",
       "       [ -2,  73,   5,  90],\n",
       "       [ -3,  79,  -4,  96],\n",
       "       [-15,  98,  13, 135],\n",
       "       [ -6,  93,  12, 128],\n",
       "       [ -2,  89,  14, 118],\n",
       "       [  5,  90,  10, 108],\n",
       "       [  4,  86,   7, 105],\n",
       "       [  4,  86,   7, 105],\n",
       "       [  4,  86,  13, 100],\n",
       "       [ -3,  82,  14,  96],\n",
       "       [ -3,  82,  14,  96],\n",
       "       [  6,  89,  16, 100],\n",
       "       [  6,  89,  16, 100],\n",
       "       [  7,  85,  17, 111]], dtype=int64)"
      ]
     },
     "execution_count": 6,
     "metadata": {},
     "output_type": "execute_result"
    }
   ],
   "source": [
    "X, lengths = training.get_word_Xlengths('CHOCOLATE')\n",
    "len(lengths)\n",
    "X"
   ]
  },
  {
   "cell_type": "markdown",
   "metadata": {
    "deletable": true,
    "editable": true
   },
   "source": [
    "###### More feature sets\n",
    "So far we have a simple feature set that is enough to get started modeling.  However, we might get better results if we manipulate the raw values a bit more, so we will go ahead and set up some other options now for experimentation later.  For example, we could normalize each speaker's range of motion with grouped statistics using [Pandas stats](http://pandas.pydata.org/pandas-docs/stable/api.html#api-dataframe-stats) functions and [pandas groupby](http://pandas.pydata.org/pandas-docs/stable/generated/pandas.DataFrame.groupby.html).  Below is an example for finding the means of all speaker subgroups."
   ]
  },
  {
   "cell_type": "code",
   "execution_count": 7,
   "metadata": {
    "collapsed": false,
    "deletable": true,
    "editable": true,
    "scrolled": true
   },
   "outputs": [
    {
     "data": {
      "text/html": [
       "<div>\n",
       "<table border=\"1\" class=\"dataframe\">\n",
       "  <thead>\n",
       "    <tr style=\"text-align: right;\">\n",
       "      <th></th>\n",
       "      <th>left-x</th>\n",
       "      <th>left-y</th>\n",
       "      <th>right-x</th>\n",
       "      <th>right-y</th>\n",
       "      <th>nose-x</th>\n",
       "      <th>nose-y</th>\n",
       "      <th>grnd-ry</th>\n",
       "      <th>grnd-rx</th>\n",
       "      <th>grnd-ly</th>\n",
       "      <th>grnd-lx</th>\n",
       "    </tr>\n",
       "    <tr>\n",
       "      <th>speaker</th>\n",
       "      <th></th>\n",
       "      <th></th>\n",
       "      <th></th>\n",
       "      <th></th>\n",
       "      <th></th>\n",
       "      <th></th>\n",
       "      <th></th>\n",
       "      <th></th>\n",
       "      <th></th>\n",
       "      <th></th>\n",
       "    </tr>\n",
       "  </thead>\n",
       "  <tbody>\n",
       "    <tr>\n",
       "      <th>man-1</th>\n",
       "      <td>206.248203</td>\n",
       "      <td>218.679449</td>\n",
       "      <td>155.464350</td>\n",
       "      <td>150.371031</td>\n",
       "      <td>175.031756</td>\n",
       "      <td>61.642600</td>\n",
       "      <td>88.728430</td>\n",
       "      <td>-19.567406</td>\n",
       "      <td>157.036848</td>\n",
       "      <td>31.216447</td>\n",
       "    </tr>\n",
       "    <tr>\n",
       "      <th>woman-1</th>\n",
       "      <td>164.661438</td>\n",
       "      <td>161.271242</td>\n",
       "      <td>151.017865</td>\n",
       "      <td>117.332462</td>\n",
       "      <td>162.655120</td>\n",
       "      <td>57.245098</td>\n",
       "      <td>60.087364</td>\n",
       "      <td>-11.637255</td>\n",
       "      <td>104.026144</td>\n",
       "      <td>2.006318</td>\n",
       "    </tr>\n",
       "    <tr>\n",
       "      <th>woman-2</th>\n",
       "      <td>183.214509</td>\n",
       "      <td>176.527232</td>\n",
       "      <td>156.866295</td>\n",
       "      <td>119.835714</td>\n",
       "      <td>170.318973</td>\n",
       "      <td>58.022098</td>\n",
       "      <td>61.813616</td>\n",
       "      <td>-13.452679</td>\n",
       "      <td>118.505134</td>\n",
       "      <td>12.895536</td>\n",
       "    </tr>\n",
       "  </tbody>\n",
       "</table>\n",
       "</div>"
      ],
      "text/plain": [
       "             left-x      left-y     right-x     right-y      nose-x  \\\n",
       "speaker                                                               \n",
       "man-1    206.248203  218.679449  155.464350  150.371031  175.031756   \n",
       "woman-1  164.661438  161.271242  151.017865  117.332462  162.655120   \n",
       "woman-2  183.214509  176.527232  156.866295  119.835714  170.318973   \n",
       "\n",
       "            nose-y    grnd-ry    grnd-rx     grnd-ly    grnd-lx  \n",
       "speaker                                                          \n",
       "man-1    61.642600  88.728430 -19.567406  157.036848  31.216447  \n",
       "woman-1  57.245098  60.087364 -11.637255  104.026144   2.006318  \n",
       "woman-2  58.022098  61.813616 -13.452679  118.505134  12.895536  "
      ]
     },
     "execution_count": 7,
     "metadata": {},
     "output_type": "execute_result"
    }
   ],
   "source": [
    "df_means = asl.df.groupby('speaker').mean()\n",
    "df_means"
   ]
  },
  {
   "cell_type": "markdown",
   "metadata": {
    "deletable": true,
    "editable": true
   },
   "source": [
    "To select a mean that matches by speaker, use the pandas [map](http://pandas.pydata.org/pandas-docs/stable/generated/pandas.Series.map.html) method:"
   ]
  },
  {
   "cell_type": "code",
   "execution_count": 8,
   "metadata": {
    "collapsed": false,
    "deletable": true,
    "editable": true
   },
   "outputs": [
    {
     "data": {
      "text/plain": [
       "array(['woman-1', 'woman-2', 'man-1'], dtype=object)"
      ]
     },
     "execution_count": 8,
     "metadata": {},
     "output_type": "execute_result"
    }
   ],
   "source": [
    "asl.df['speaker'].unique()"
   ]
  },
  {
   "cell_type": "code",
   "execution_count": 9,
   "metadata": {
    "collapsed": false,
    "deletable": true,
    "editable": true
   },
   "outputs": [
    {
     "data": {
      "text/html": [
       "<div>\n",
       "<table border=\"1\" class=\"dataframe\">\n",
       "  <thead>\n",
       "    <tr style=\"text-align: right;\">\n",
       "      <th></th>\n",
       "      <th></th>\n",
       "      <th>left-x</th>\n",
       "      <th>left-y</th>\n",
       "      <th>right-x</th>\n",
       "      <th>right-y</th>\n",
       "      <th>nose-x</th>\n",
       "      <th>nose-y</th>\n",
       "      <th>speaker</th>\n",
       "      <th>grnd-ry</th>\n",
       "      <th>grnd-rx</th>\n",
       "      <th>grnd-ly</th>\n",
       "      <th>grnd-lx</th>\n",
       "      <th>left-x-mean</th>\n",
       "    </tr>\n",
       "    <tr>\n",
       "      <th>video</th>\n",
       "      <th>frame</th>\n",
       "      <th></th>\n",
       "      <th></th>\n",
       "      <th></th>\n",
       "      <th></th>\n",
       "      <th></th>\n",
       "      <th></th>\n",
       "      <th></th>\n",
       "      <th></th>\n",
       "      <th></th>\n",
       "      <th></th>\n",
       "      <th></th>\n",
       "      <th></th>\n",
       "    </tr>\n",
       "  </thead>\n",
       "  <tbody>\n",
       "    <tr>\n",
       "      <th rowspan=\"5\" valign=\"top\">98</th>\n",
       "      <th>0</th>\n",
       "      <td>149</td>\n",
       "      <td>181</td>\n",
       "      <td>170</td>\n",
       "      <td>175</td>\n",
       "      <td>161</td>\n",
       "      <td>62</td>\n",
       "      <td>woman-1</td>\n",
       "      <td>113</td>\n",
       "      <td>9</td>\n",
       "      <td>119</td>\n",
       "      <td>-12</td>\n",
       "      <td>164.661438</td>\n",
       "    </tr>\n",
       "    <tr>\n",
       "      <th>1</th>\n",
       "      <td>149</td>\n",
       "      <td>181</td>\n",
       "      <td>170</td>\n",
       "      <td>175</td>\n",
       "      <td>161</td>\n",
       "      <td>62</td>\n",
       "      <td>woman-1</td>\n",
       "      <td>113</td>\n",
       "      <td>9</td>\n",
       "      <td>119</td>\n",
       "      <td>-12</td>\n",
       "      <td>164.661438</td>\n",
       "    </tr>\n",
       "    <tr>\n",
       "      <th>2</th>\n",
       "      <td>149</td>\n",
       "      <td>181</td>\n",
       "      <td>170</td>\n",
       "      <td>175</td>\n",
       "      <td>161</td>\n",
       "      <td>62</td>\n",
       "      <td>woman-1</td>\n",
       "      <td>113</td>\n",
       "      <td>9</td>\n",
       "      <td>119</td>\n",
       "      <td>-12</td>\n",
       "      <td>164.661438</td>\n",
       "    </tr>\n",
       "    <tr>\n",
       "      <th>3</th>\n",
       "      <td>149</td>\n",
       "      <td>181</td>\n",
       "      <td>170</td>\n",
       "      <td>175</td>\n",
       "      <td>161</td>\n",
       "      <td>62</td>\n",
       "      <td>woman-1</td>\n",
       "      <td>113</td>\n",
       "      <td>9</td>\n",
       "      <td>119</td>\n",
       "      <td>-12</td>\n",
       "      <td>164.661438</td>\n",
       "    </tr>\n",
       "    <tr>\n",
       "      <th>4</th>\n",
       "      <td>149</td>\n",
       "      <td>181</td>\n",
       "      <td>170</td>\n",
       "      <td>175</td>\n",
       "      <td>161</td>\n",
       "      <td>62</td>\n",
       "      <td>woman-1</td>\n",
       "      <td>113</td>\n",
       "      <td>9</td>\n",
       "      <td>119</td>\n",
       "      <td>-12</td>\n",
       "      <td>164.661438</td>\n",
       "    </tr>\n",
       "  </tbody>\n",
       "</table>\n",
       "</div>"
      ],
      "text/plain": [
       "             left-x  left-y  right-x  right-y  nose-x  nose-y  speaker  \\\n",
       "video frame                                                              \n",
       "98    0         149     181      170      175     161      62  woman-1   \n",
       "      1         149     181      170      175     161      62  woman-1   \n",
       "      2         149     181      170      175     161      62  woman-1   \n",
       "      3         149     181      170      175     161      62  woman-1   \n",
       "      4         149     181      170      175     161      62  woman-1   \n",
       "\n",
       "             grnd-ry  grnd-rx  grnd-ly  grnd-lx  left-x-mean  \n",
       "video frame                                                   \n",
       "98    0          113        9      119      -12   164.661438  \n",
       "      1          113        9      119      -12   164.661438  \n",
       "      2          113        9      119      -12   164.661438  \n",
       "      3          113        9      119      -12   164.661438  \n",
       "      4          113        9      119      -12   164.661438  "
      ]
     },
     "execution_count": 9,
     "metadata": {},
     "output_type": "execute_result"
    }
   ],
   "source": [
    "asl.df['left-x-mean']= asl.df['speaker'].map(df_means['left-x'])\n",
    "asl.df.head()"
   ]
  },
  {
   "cell_type": "markdown",
   "metadata": {
    "deletable": true,
    "editable": true
   },
   "source": [
    "##### Try it!"
   ]
  },
  {
   "cell_type": "code",
   "execution_count": 10,
   "metadata": {
    "collapsed": false,
    "deletable": true,
    "editable": true
   },
   "outputs": [
    {
     "name": "stdout",
     "output_type": "stream",
     "text": [
      "df_std\n"
     ]
    },
    {
     "data": {
      "text/html": [
       "<div>\n",
       "<table border=\"1\" class=\"dataframe\">\n",
       "  <thead>\n",
       "    <tr style=\"text-align: right;\">\n",
       "      <th></th>\n",
       "      <th>left-x</th>\n",
       "      <th>left-y</th>\n",
       "      <th>right-x</th>\n",
       "      <th>right-y</th>\n",
       "      <th>nose-x</th>\n",
       "      <th>nose-y</th>\n",
       "      <th>grnd-ry</th>\n",
       "      <th>grnd-rx</th>\n",
       "      <th>grnd-ly</th>\n",
       "      <th>grnd-lx</th>\n",
       "      <th>left-x-mean</th>\n",
       "    </tr>\n",
       "    <tr>\n",
       "      <th>speaker</th>\n",
       "      <th></th>\n",
       "      <th></th>\n",
       "      <th></th>\n",
       "      <th></th>\n",
       "      <th></th>\n",
       "      <th></th>\n",
       "      <th></th>\n",
       "      <th></th>\n",
       "      <th></th>\n",
       "      <th></th>\n",
       "      <th></th>\n",
       "    </tr>\n",
       "  </thead>\n",
       "  <tbody>\n",
       "    <tr>\n",
       "      <th>man-1</th>\n",
       "      <td>15.154425</td>\n",
       "      <td>36.328485</td>\n",
       "      <td>18.901917</td>\n",
       "      <td>54.902340</td>\n",
       "      <td>6.654573</td>\n",
       "      <td>5.520045</td>\n",
       "      <td>53.487999</td>\n",
       "      <td>20.269032</td>\n",
       "      <td>36.572749</td>\n",
       "      <td>15.080360</td>\n",
       "      <td>0.0</td>\n",
       "    </tr>\n",
       "    <tr>\n",
       "      <th>woman-1</th>\n",
       "      <td>17.573442</td>\n",
       "      <td>26.594521</td>\n",
       "      <td>16.459943</td>\n",
       "      <td>34.667787</td>\n",
       "      <td>3.549392</td>\n",
       "      <td>3.538330</td>\n",
       "      <td>33.972660</td>\n",
       "      <td>16.764706</td>\n",
       "      <td>27.117393</td>\n",
       "      <td>17.328941</td>\n",
       "      <td>0.0</td>\n",
       "    </tr>\n",
       "    <tr>\n",
       "      <th>woman-2</th>\n",
       "      <td>15.388711</td>\n",
       "      <td>28.825025</td>\n",
       "      <td>14.890288</td>\n",
       "      <td>39.649111</td>\n",
       "      <td>4.099760</td>\n",
       "      <td>3.416167</td>\n",
       "      <td>39.128572</td>\n",
       "      <td>16.191324</td>\n",
       "      <td>29.320655</td>\n",
       "      <td>15.050938</td>\n",
       "      <td>0.0</td>\n",
       "    </tr>\n",
       "  </tbody>\n",
       "</table>\n",
       "</div>"
      ],
      "text/plain": [
       "            left-x     left-y    right-x    right-y    nose-x    nose-y  \\\n",
       "speaker                                                                   \n",
       "man-1    15.154425  36.328485  18.901917  54.902340  6.654573  5.520045   \n",
       "woman-1  17.573442  26.594521  16.459943  34.667787  3.549392  3.538330   \n",
       "woman-2  15.388711  28.825025  14.890288  39.649111  4.099760  3.416167   \n",
       "\n",
       "           grnd-ry    grnd-rx    grnd-ly    grnd-lx  left-x-mean  \n",
       "speaker                                                           \n",
       "man-1    53.487999  20.269032  36.572749  15.080360          0.0  \n",
       "woman-1  33.972660  16.764706  27.117393  17.328941          0.0  \n",
       "woman-2  39.128572  16.191324  29.320655  15.050938          0.0  "
      ]
     },
     "metadata": {},
     "output_type": "display_data"
    },
    {
     "data": {
      "text/html": [
       "<font color=green>Correct!</font><br/>"
      ],
      "text/plain": [
       "<IPython.core.display.HTML object>"
      ]
     },
     "execution_count": 10,
     "metadata": {},
     "output_type": "execute_result"
    }
   ],
   "source": [
    "from asl_utils import test_std_tryit\n",
    "# TODO Create a dataframe named `df_std` with standard deviations grouped by speaker\n",
    "df_std = asl.df.groupby('speaker').std()\n",
    "# test the code\n",
    "test_std_tryit(df_std)"
   ]
  },
  {
   "cell_type": "markdown",
   "metadata": {
    "deletable": true,
    "editable": true
   },
   "source": [
    "<a id='part1_submission'></a>\n",
    "### Features Implementation Submission\n",
    "Implement four feature sets and answer the question that follows.\n",
    "- normalized Cartesian coordinates\n",
    "    - use *mean* and *standard deviation* statistics and the [standard score](https://en.wikipedia.org/wiki/Standard_score) equation to account for speakers with different heights and arm length\n",
    "    \n",
    "- polar coordinates\n",
    "    - calculate polar coordinates with [Cartesian to polar equations](https://en.wikipedia.org/wiki/Polar_coordinate_system#Converting_between_polar_and_Cartesian_coordinates)\n",
    "    - use the [np.arctan2](https://docs.scipy.org/doc/numpy-1.10.0/reference/generated/numpy.arctan2.html) function and *swap the x and y axes* to move the $0$ to $2\\pi$ discontinuity to 12 o'clock instead of 3 o'clock;  in other words, the normal break in radians value from $0$ to $2\\pi$ occurs directly to the left of the speaker's nose, which may be in the signing area and interfere with results.  By swapping the x and y axes, that discontinuity move to directly above the speaker's head, an area not generally used in signing.\n",
    "\n",
    "- delta difference\n",
    "    - as described in Thad's lecture, use the difference in values between one frame and the next frames as features\n",
    "    - pandas [diff method](http://pandas.pydata.org/pandas-docs/stable/generated/pandas.DataFrame.diff.html) and [fillna method](http://pandas.pydata.org/pandas-docs/stable/generated/pandas.DataFrame.fillna.html) will be helpful for this one\n",
    "\n",
    "- custom features\n",
    "    - These are your own design; combine techniques used above or come up with something else entirely. We look forward to seeing what you come up with! \n",
    "    Some ideas to get you started:\n",
    "        - normalize using a [feature scaling equation](https://en.wikipedia.org/wiki/Feature_scaling)\n",
    "        - normalize the polar coordinates\n",
    "        - adding additional deltas\n"
   ]
  },
  {
   "cell_type": "code",
   "execution_count": 11,
   "metadata": {
    "collapsed": false,
    "deletable": true,
    "editable": true
   },
   "outputs": [
    {
     "data": {
      "text/html": [
       "<div>\n",
       "<table border=\"1\" class=\"dataframe\">\n",
       "  <thead>\n",
       "    <tr style=\"text-align: right;\">\n",
       "      <th></th>\n",
       "      <th></th>\n",
       "      <th>norm-rx</th>\n",
       "      <th>norm-ry</th>\n",
       "      <th>norm-lx</th>\n",
       "      <th>norm-ly</th>\n",
       "    </tr>\n",
       "    <tr>\n",
       "      <th>video</th>\n",
       "      <th>frame</th>\n",
       "      <th></th>\n",
       "      <th></th>\n",
       "      <th></th>\n",
       "      <th></th>\n",
       "    </tr>\n",
       "  </thead>\n",
       "  <tbody>\n",
       "    <tr>\n",
       "      <th rowspan=\"5\" valign=\"top\">99</th>\n",
       "      <th>13</th>\n",
       "      <td>0.545697</td>\n",
       "      <td>-0.009590</td>\n",
       "      <td>-1.175719</td>\n",
       "      <td>0.741835</td>\n",
       "    </tr>\n",
       "    <tr>\n",
       "      <th>14</th>\n",
       "      <td>0.120422</td>\n",
       "      <td>-0.240352</td>\n",
       "      <td>-1.175719</td>\n",
       "      <td>0.741835</td>\n",
       "    </tr>\n",
       "    <tr>\n",
       "      <th>15</th>\n",
       "      <td>0.181175</td>\n",
       "      <td>-0.471113</td>\n",
       "      <td>-1.175719</td>\n",
       "      <td>0.741835</td>\n",
       "    </tr>\n",
       "    <tr>\n",
       "      <th>16</th>\n",
       "      <td>0.120422</td>\n",
       "      <td>-0.644185</td>\n",
       "      <td>-1.175719</td>\n",
       "      <td>0.741835</td>\n",
       "    </tr>\n",
       "    <tr>\n",
       "      <th>17</th>\n",
       "      <td>0.120422</td>\n",
       "      <td>-0.644185</td>\n",
       "      <td>-1.175719</td>\n",
       "      <td>0.741835</td>\n",
       "    </tr>\n",
       "  </tbody>\n",
       "</table>\n",
       "</div>"
      ],
      "text/plain": [
       "              norm-rx   norm-ry   norm-lx   norm-ly\n",
       "video frame                                        \n",
       "99    13     0.545697 -0.009590 -1.175719  0.741835\n",
       "      14     0.120422 -0.240352 -1.175719  0.741835\n",
       "      15     0.181175 -0.471113 -1.175719  0.741835\n",
       "      16     0.120422 -0.644185 -1.175719  0.741835\n",
       "      17     0.120422 -0.644185 -1.175719  0.741835"
      ]
     },
     "execution_count": 11,
     "metadata": {},
     "output_type": "execute_result"
    }
   ],
   "source": [
    "# TODO add features for normalized by speaker values of left, right, x, y\n",
    "# Name these 'norm-rx', 'norm-ry', 'norm-lx', and 'norm-ly'\n",
    "features_norm = ['norm-rx', 'norm-ry', 'norm-lx','norm-ly']\n",
    "# using Z-score scaling (X-Xmean)/Xstd\n",
    "def z_score(col: str):\n",
    "    return (asl.df[col] - asl.df['speaker'].map(df_means[col]))/asl.df['speaker'].map(df_std[col])\n",
    "    \n",
    "asl.df['norm-rx'] = z_score('right-x')\n",
    "asl.df['norm-ry'] = z_score('right-y')\n",
    "asl.df['norm-lx'] = z_score('left-x')\n",
    "asl.df['norm-ly'] = z_score('left-y')\n",
    "asl.df.head(117).tail()[features_norm]"
   ]
  },
  {
   "cell_type": "code",
   "execution_count": 12,
   "metadata": {
    "collapsed": false,
    "deletable": true,
    "editable": true
   },
   "outputs": [
    {
     "data": {
      "text/html": [
       "<div>\n",
       "<table border=\"1\" class=\"dataframe\">\n",
       "  <thead>\n",
       "    <tr style=\"text-align: right;\">\n",
       "      <th></th>\n",
       "      <th></th>\n",
       "      <th>polar-rr</th>\n",
       "      <th>polar-rtheta</th>\n",
       "      <th>polar-lr</th>\n",
       "      <th>polar-ltheta</th>\n",
       "    </tr>\n",
       "    <tr>\n",
       "      <th>video</th>\n",
       "      <th>frame</th>\n",
       "      <th></th>\n",
       "      <th></th>\n",
       "      <th></th>\n",
       "      <th></th>\n",
       "    </tr>\n",
       "  </thead>\n",
       "  <tbody>\n",
       "    <tr>\n",
       "      <th rowspan=\"5\" valign=\"top\">98</th>\n",
       "      <th>0</th>\n",
       "      <td>113.35784</td>\n",
       "      <td>0.079478</td>\n",
       "      <td>119.603512</td>\n",
       "      <td>-0.100501</td>\n",
       "    </tr>\n",
       "    <tr>\n",
       "      <th>1</th>\n",
       "      <td>113.35784</td>\n",
       "      <td>0.079478</td>\n",
       "      <td>119.603512</td>\n",
       "      <td>-0.100501</td>\n",
       "    </tr>\n",
       "    <tr>\n",
       "      <th>2</th>\n",
       "      <td>113.35784</td>\n",
       "      <td>0.079478</td>\n",
       "      <td>119.603512</td>\n",
       "      <td>-0.100501</td>\n",
       "    </tr>\n",
       "    <tr>\n",
       "      <th>3</th>\n",
       "      <td>113.35784</td>\n",
       "      <td>0.079478</td>\n",
       "      <td>119.603512</td>\n",
       "      <td>-0.100501</td>\n",
       "    </tr>\n",
       "    <tr>\n",
       "      <th>4</th>\n",
       "      <td>113.35784</td>\n",
       "      <td>0.079478</td>\n",
       "      <td>119.603512</td>\n",
       "      <td>-0.100501</td>\n",
       "    </tr>\n",
       "  </tbody>\n",
       "</table>\n",
       "</div>"
      ],
      "text/plain": [
       "              polar-rr  polar-rtheta    polar-lr  polar-ltheta\n",
       "video frame                                                   \n",
       "98    0      113.35784      0.079478  119.603512     -0.100501\n",
       "      1      113.35784      0.079478  119.603512     -0.100501\n",
       "      2      113.35784      0.079478  119.603512     -0.100501\n",
       "      3      113.35784      0.079478  119.603512     -0.100501\n",
       "      4      113.35784      0.079478  119.603512     -0.100501"
      ]
     },
     "execution_count": 12,
     "metadata": {},
     "output_type": "execute_result"
    }
   ],
   "source": [
    "# TODO add features for polar coordinate values where the nose is the origin\n",
    "# Name these 'polar-rr', 'polar-rtheta', 'polar-lr', and 'polar-ltheta'\n",
    "features_polar = ['polar-rr', 'polar-rtheta', 'polar-lr', 'polar-ltheta']\n",
    "# Note that 'polar-rr' and 'polar-rtheta' refer to the radius and angle\n",
    "def polar(polar_col:str, x:str, y:str):\n",
    "    df = asl.df\n",
    "    df[polar_col+'r'] = np.sqrt(df[x]*df[x] + df[y]*df[y])\n",
    "    df[polar_col+'theta'] = np.arctan2(df[x], df[y])\n",
    "    return 0\n",
    "\n",
    "polar('polar-r', 'grnd-rx', 'grnd-ry')\n",
    "polar('polar-l', 'grnd-lx', 'grnd-ly')\n",
    "asl.df.head()[features_polar] # note theta +r -l "
   ]
  },
  {
   "cell_type": "code",
   "execution_count": 13,
   "metadata": {
    "collapsed": false,
    "deletable": true,
    "editable": true
   },
   "outputs": [
    {
     "data": {
      "text/html": [
       "<div>\n",
       "<table border=\"1\" class=\"dataframe\">\n",
       "  <thead>\n",
       "    <tr style=\"text-align: right;\">\n",
       "      <th></th>\n",
       "      <th></th>\n",
       "      <th>delta-rx</th>\n",
       "      <th>delta-ry</th>\n",
       "      <th>delta-lx</th>\n",
       "      <th>delta-ly</th>\n",
       "      <th>left-x</th>\n",
       "      <th>left-y</th>\n",
       "    </tr>\n",
       "    <tr>\n",
       "      <th>video</th>\n",
       "      <th>frame</th>\n",
       "      <th></th>\n",
       "      <th></th>\n",
       "      <th></th>\n",
       "      <th></th>\n",
       "      <th></th>\n",
       "      <th></th>\n",
       "    </tr>\n",
       "  </thead>\n",
       "  <tbody>\n",
       "    <tr>\n",
       "      <th rowspan=\"5\" valign=\"top\">98</th>\n",
       "      <th>10</th>\n",
       "      <td>0.0</td>\n",
       "      <td>0.0</td>\n",
       "      <td>0.0</td>\n",
       "      <td>0.0</td>\n",
       "      <td>149</td>\n",
       "      <td>181</td>\n",
       "    </tr>\n",
       "    <tr>\n",
       "      <th>11</th>\n",
       "      <td>-1.0</td>\n",
       "      <td>-2.0</td>\n",
       "      <td>0.0</td>\n",
       "      <td>0.0</td>\n",
       "      <td>149</td>\n",
       "      <td>181</td>\n",
       "    </tr>\n",
       "    <tr>\n",
       "      <th>12</th>\n",
       "      <td>-2.0</td>\n",
       "      <td>-8.0</td>\n",
       "      <td>0.0</td>\n",
       "      <td>0.0</td>\n",
       "      <td>149</td>\n",
       "      <td>181</td>\n",
       "    </tr>\n",
       "    <tr>\n",
       "      <th>13</th>\n",
       "      <td>-1.0</td>\n",
       "      <td>-5.0</td>\n",
       "      <td>0.0</td>\n",
       "      <td>0.0</td>\n",
       "      <td>149</td>\n",
       "      <td>181</td>\n",
       "    </tr>\n",
       "    <tr>\n",
       "      <th>14</th>\n",
       "      <td>-2.0</td>\n",
       "      <td>-11.0</td>\n",
       "      <td>0.0</td>\n",
       "      <td>0.0</td>\n",
       "      <td>149</td>\n",
       "      <td>181</td>\n",
       "    </tr>\n",
       "  </tbody>\n",
       "</table>\n",
       "</div>"
      ],
      "text/plain": [
       "             delta-rx  delta-ry  delta-lx  delta-ly  left-x  left-y\n",
       "video frame                                                        \n",
       "98    10          0.0       0.0       0.0       0.0     149     181\n",
       "      11         -1.0      -2.0       0.0       0.0     149     181\n",
       "      12         -2.0      -8.0       0.0       0.0     149     181\n",
       "      13         -1.0      -5.0       0.0       0.0     149     181\n",
       "      14         -2.0     -11.0       0.0       0.0     149     181"
      ]
     },
     "execution_count": 13,
     "metadata": {},
     "output_type": "execute_result"
    }
   ],
   "source": [
    "# TODO add features for left, right, x, y differences by one time step, i.e. the \"delta\" values discussed in the lecture\n",
    "# Name these 'delta-rx', 'delta-ry', 'delta-lx', and 'delta-ly'\n",
    "features_delta = ['delta-rx', 'delta-ry', 'delta-lx', 'delta-ly']\n",
    "df = asl.df\n",
    "df['delta-rx'] = df['right-x'].diff().fillna(0)\n",
    "df['delta-ry'] = df['right-y'].diff().fillna(0)\n",
    "df['delta-lx'] = df['left-x'].diff().fillna(0)\n",
    "df['delta-ly'] = df['left-y'].diff().fillna(0)\n",
    "df[features_delta+['left-x','left-y']].head(15).tail()"
   ]
  },
  {
   "cell_type": "code",
   "execution_count": 14,
   "metadata": {
    "collapsed": false,
    "deletable": true,
    "editable": true
   },
   "outputs": [
    {
     "data": {
      "text/html": [
       "<div>\n",
       "<table border=\"1\" class=\"dataframe\">\n",
       "  <thead>\n",
       "    <tr style=\"text-align: right;\">\n",
       "      <th></th>\n",
       "      <th></th>\n",
       "      <th>polar-rrn</th>\n",
       "      <th>polar-lrn</th>\n",
       "      <th>delta-rr</th>\n",
       "      <th>delta-rtheta</th>\n",
       "      <th>delta-lr</th>\n",
       "      <th>delta-ltheta</th>\n",
       "      <th>polar-rr</th>\n",
       "      <th>polar-rtheta</th>\n",
       "      <th>polar-lr</th>\n",
       "      <th>polar-ltheta</th>\n",
       "    </tr>\n",
       "    <tr>\n",
       "      <th>video</th>\n",
       "      <th>frame</th>\n",
       "      <th></th>\n",
       "      <th></th>\n",
       "      <th></th>\n",
       "      <th></th>\n",
       "      <th></th>\n",
       "      <th></th>\n",
       "      <th></th>\n",
       "      <th></th>\n",
       "      <th></th>\n",
       "      <th></th>\n",
       "    </tr>\n",
       "  </thead>\n",
       "  <tbody>\n",
       "    <tr>\n",
       "      <th rowspan=\"10\" valign=\"top\">98</th>\n",
       "      <th>5</th>\n",
       "      <td>1.573439</td>\n",
       "      <td>0.542499</td>\n",
       "      <td>0.000000</td>\n",
       "      <td>0.000000</td>\n",
       "      <td>0.0</td>\n",
       "      <td>0.0</td>\n",
       "      <td>113.357840</td>\n",
       "      <td>0.079478</td>\n",
       "      <td>119.603512</td>\n",
       "      <td>-0.100501</td>\n",
       "    </tr>\n",
       "    <tr>\n",
       "      <th>6</th>\n",
       "      <td>1.573439</td>\n",
       "      <td>0.542499</td>\n",
       "      <td>0.000000</td>\n",
       "      <td>0.000000</td>\n",
       "      <td>0.0</td>\n",
       "      <td>0.0</td>\n",
       "      <td>113.357840</td>\n",
       "      <td>0.079478</td>\n",
       "      <td>119.603512</td>\n",
       "      <td>-0.100501</td>\n",
       "    </tr>\n",
       "    <tr>\n",
       "      <th>7</th>\n",
       "      <td>1.573439</td>\n",
       "      <td>0.542499</td>\n",
       "      <td>0.000000</td>\n",
       "      <td>0.000000</td>\n",
       "      <td>0.0</td>\n",
       "      <td>0.0</td>\n",
       "      <td>113.357840</td>\n",
       "      <td>0.079478</td>\n",
       "      <td>119.603512</td>\n",
       "      <td>-0.100501</td>\n",
       "    </tr>\n",
       "    <tr>\n",
       "      <th>8</th>\n",
       "      <td>1.573439</td>\n",
       "      <td>0.542499</td>\n",
       "      <td>0.000000</td>\n",
       "      <td>0.000000</td>\n",
       "      <td>0.0</td>\n",
       "      <td>0.0</td>\n",
       "      <td>113.357840</td>\n",
       "      <td>0.079478</td>\n",
       "      <td>119.603512</td>\n",
       "      <td>-0.100501</td>\n",
       "    </tr>\n",
       "    <tr>\n",
       "      <th>9</th>\n",
       "      <td>1.573439</td>\n",
       "      <td>0.542499</td>\n",
       "      <td>0.000000</td>\n",
       "      <td>0.000000</td>\n",
       "      <td>0.0</td>\n",
       "      <td>0.0</td>\n",
       "      <td>113.357840</td>\n",
       "      <td>0.079478</td>\n",
       "      <td>119.603512</td>\n",
       "      <td>-0.100501</td>\n",
       "    </tr>\n",
       "    <tr>\n",
       "      <th>10</th>\n",
       "      <td>1.573439</td>\n",
       "      <td>0.542499</td>\n",
       "      <td>0.000000</td>\n",
       "      <td>0.000000</td>\n",
       "      <td>0.0</td>\n",
       "      <td>0.0</td>\n",
       "      <td>113.357840</td>\n",
       "      <td>0.079478</td>\n",
       "      <td>119.603512</td>\n",
       "      <td>-0.100501</td>\n",
       "    </tr>\n",
       "    <tr>\n",
       "      <th>11</th>\n",
       "      <td>1.505914</td>\n",
       "      <td>0.542499</td>\n",
       "      <td>-0.067525</td>\n",
       "      <td>-0.007531</td>\n",
       "      <td>0.0</td>\n",
       "      <td>0.0</td>\n",
       "      <td>111.287915</td>\n",
       "      <td>0.071948</td>\n",
       "      <td>119.603512</td>\n",
       "      <td>-0.100501</td>\n",
       "    </tr>\n",
       "    <tr>\n",
       "      <th>12</th>\n",
       "      <td>1.241241</td>\n",
       "      <td>0.542499</td>\n",
       "      <td>-0.264673</td>\n",
       "      <td>-0.013761</td>\n",
       "      <td>0.0</td>\n",
       "      <td>0.0</td>\n",
       "      <td>103.174609</td>\n",
       "      <td>0.058187</td>\n",
       "      <td>119.603512</td>\n",
       "      <td>-0.100501</td>\n",
       "    </tr>\n",
       "    <tr>\n",
       "      <th>13</th>\n",
       "      <td>1.076593</td>\n",
       "      <td>0.542499</td>\n",
       "      <td>-0.164648</td>\n",
       "      <td>-0.007210</td>\n",
       "      <td>0.0</td>\n",
       "      <td>0.0</td>\n",
       "      <td>98.127468</td>\n",
       "      <td>0.050976</td>\n",
       "      <td>119.603512</td>\n",
       "      <td>-0.100501</td>\n",
       "    </tr>\n",
       "    <tr>\n",
       "      <th>14</th>\n",
       "      <td>0.715278</td>\n",
       "      <td>0.542499</td>\n",
       "      <td>-0.361315</td>\n",
       "      <td>-0.016507</td>\n",
       "      <td>0.0</td>\n",
       "      <td>0.0</td>\n",
       "      <td>87.051709</td>\n",
       "      <td>0.034469</td>\n",
       "      <td>119.603512</td>\n",
       "      <td>-0.100501</td>\n",
       "    </tr>\n",
       "  </tbody>\n",
       "</table>\n",
       "</div>"
      ],
      "text/plain": [
       "             polar-rrn  polar-lrn  delta-rr  delta-rtheta  delta-lr  \\\n",
       "video frame                                                           \n",
       "98    5       1.573439   0.542499  0.000000      0.000000       0.0   \n",
       "      6       1.573439   0.542499  0.000000      0.000000       0.0   \n",
       "      7       1.573439   0.542499  0.000000      0.000000       0.0   \n",
       "      8       1.573439   0.542499  0.000000      0.000000       0.0   \n",
       "      9       1.573439   0.542499  0.000000      0.000000       0.0   \n",
       "      10      1.573439   0.542499  0.000000      0.000000       0.0   \n",
       "      11      1.505914   0.542499 -0.067525     -0.007531       0.0   \n",
       "      12      1.241241   0.542499 -0.264673     -0.013761       0.0   \n",
       "      13      1.076593   0.542499 -0.164648     -0.007210       0.0   \n",
       "      14      0.715278   0.542499 -0.361315     -0.016507       0.0   \n",
       "\n",
       "             delta-ltheta    polar-rr  polar-rtheta    polar-lr  polar-ltheta  \n",
       "video frame                                                                    \n",
       "98    5               0.0  113.357840      0.079478  119.603512     -0.100501  \n",
       "      6               0.0  113.357840      0.079478  119.603512     -0.100501  \n",
       "      7               0.0  113.357840      0.079478  119.603512     -0.100501  \n",
       "      8               0.0  113.357840      0.079478  119.603512     -0.100501  \n",
       "      9               0.0  113.357840      0.079478  119.603512     -0.100501  \n",
       "      10              0.0  113.357840      0.079478  119.603512     -0.100501  \n",
       "      11              0.0  111.287915      0.071948  119.603512     -0.100501  \n",
       "      12              0.0  103.174609      0.058187  119.603512     -0.100501  \n",
       "      13              0.0   98.127468      0.050976  119.603512     -0.100501  \n",
       "      14              0.0   87.051709      0.034469  119.603512     -0.100501  "
      ]
     },
     "execution_count": 14,
     "metadata": {},
     "output_type": "execute_result"
    }
   ],
   "source": [
    "# TODO add features of your own design, which may be a combination of the above or something else\n",
    "# Name these whatever you would like\n",
    "# TODO define a list named 'features_custom' for building the training set\n",
    "features_custom = ['delta-rr', 'delta-rtheta', 'delta-lr', 'delta-ltheta']\n",
    "# using deltas in polar coordinates with normalized R distance\n",
    "def z_score_of(col: str):\n",
    "    # normalization of an column on the fly\n",
    "    df = asl.df\n",
    "    mean = df[['speaker',col]].groupby('speaker').mean()\n",
    "    std = df[['speaker',col]].groupby('speaker').std()\n",
    "    return (df[col] - df['speaker'].map(mean[col]))/asl.df['speaker'].map(std[col])\n",
    "\n",
    "df['polar-rrn'] = z_score_of('polar-rr')\n",
    "df['polar-lrn'] = z_score_of('polar-lr')\n",
    "\n",
    "df['delta-rr'] = df['polar-rrn'].diff().fillna(0)\n",
    "df['delta-rtheta'] = df['polar-rtheta'].diff().fillna(0)\n",
    "df['delta-lr'] = df['polar-lrn'].diff().fillna(0)\n",
    "df['delta-ltheta'] = df['polar-ltheta'].diff().fillna(0)\n",
    "df[features_custom].head(15).tail()\n",
    "\n",
    "df[['polar-rrn','polar-lrn']+features_custom+features_polar].head(15).tail(10)"
   ]
  },
  {
   "cell_type": "code",
   "execution_count": 65,
   "metadata": {
    "collapsed": true,
    "deletable": true,
    "editable": true
   },
   "outputs": [],
   "source": [
    "# save calculated features for later use\n",
    "df.to_csv('./data/features.csv')"
   ]
  },
  {
   "cell_type": "markdown",
   "metadata": {
    "deletable": true,
    "editable": true
   },
   "source": [
    "**Question 1:**  What custom features did you choose for the features_custom set and why?\n",
    "\n",
    "**Answer 1:** I chose to use deltas in polar coordinates with normalized R distance.\n",
    "Reasons why:\n",
    "- I found ASL elements consists of round motions relative to the face. Thus, polar coordinates relative to nose seem to be a good idea.\n",
    "- To adjust for individual speaker differences in length I chose to normalize R coordinate.\n",
    "- In my opinion dynamic of movement might be more informative than raw time series of relative positions therefore deltas are calculated."
   ]
  },
  {
   "cell_type": "markdown",
   "metadata": {
    "deletable": true,
    "editable": true
   },
   "source": [
    "<a id='part1_test'></a>\n",
    "### Features Unit Testing\n",
    "Run the following unit tests as a sanity check on the defined \"ground\", \"norm\", \"polar\", and 'delta\"\n",
    "feature sets.  The test simply looks for some valid values but is not exhaustive.  However, the project should not be submitted if these tests don't pass."
   ]
  },
  {
   "cell_type": "code",
   "execution_count": 15,
   "metadata": {
    "collapsed": false,
    "deletable": true,
    "editable": true
   },
   "outputs": [
    {
     "name": "stderr",
     "output_type": "stream",
     "text": [
      "....\n",
      "----------------------------------------------------------------------\n",
      "Ran 4 tests in 0.000s\n",
      "\n",
      "OK\n"
     ]
    },
    {
     "data": {
      "text/plain": [
       "<unittest.runner.TextTestResult run=4 errors=0 failures=0>"
      ]
     },
     "execution_count": 15,
     "metadata": {},
     "output_type": "execute_result"
    }
   ],
   "source": [
    "import unittest\n",
    "# import numpy as np\n",
    "\n",
    "class TestFeatures(unittest.TestCase):\n",
    "\n",
    "    def test_features_ground(self):\n",
    "        sample = (asl.df.ix[98, 1][features_ground]).tolist()\n",
    "        self.assertEqual(sample, [9, 113, -12, 119])\n",
    "\n",
    "    def test_features_norm(self):\n",
    "        sample = (asl.df.ix[98, 1][features_norm]).tolist()\n",
    "        np.testing.assert_almost_equal(sample, [ 1.153,  1.663, -0.891,  0.742], 3)\n",
    "\n",
    "    def test_features_polar(self):\n",
    "        sample = (asl.df.ix[98,1][features_polar]).tolist()\n",
    "        np.testing.assert_almost_equal(sample, [113.3578, 0.0794, 119.603, -0.1005], 3)\n",
    "\n",
    "    def test_features_delta(self):\n",
    "        sample = (asl.df.ix[98, 0][features_delta]).tolist()\n",
    "        self.assertEqual(sample, [0, 0, 0, 0])\n",
    "        sample = (asl.df.ix[98, 18][features_delta]).tolist()\n",
    "        self.assertTrue(sample in [[-16, -5, -2, 4], [-14, -9, 0, 0]], \"Sample value found was {}\".format(sample))\n",
    "                         \n",
    "suite = unittest.TestLoader().loadTestsFromModule(TestFeatures())\n",
    "unittest.TextTestRunner().run(suite)"
   ]
  },
  {
   "cell_type": "markdown",
   "metadata": {
    "collapsed": true,
    "deletable": true,
    "editable": true
   },
   "source": [
    "<a id='part2_tutorial'></a>\n",
    "## PART 2: Model Selection\n",
    "### Model Selection Tutorial\n",
    "The objective of Model Selection is to tune the number of states for each word HMM prior to testing on unseen data.  In this section you will explore three methods: \n",
    "- Log likelihood using cross-validation folds (CV)\n",
    "- Bayesian Information Criterion (BIC)\n",
    "- Discriminative Information Criterion (DIC) "
   ]
  },
  {
   "cell_type": "markdown",
   "metadata": {
    "deletable": true,
    "editable": true
   },
   "source": [
    "##### Train a single word\n",
    "Now that we have built a training set with sequence data, we can \"train\" models for each word.  As a simple starting example, we train a single word using Gaussian hidden Markov models (HMM).   By using the `fit` method during training, the [Baum-Welch Expectation-Maximization](https://en.wikipedia.org/wiki/Baum%E2%80%93Welch_algorithm) (EM) algorithm is invoked iteratively to find the best estimate for the model *for the number of hidden states specified* from a group of sample seequences. For this example, we *assume* the correct number of hidden states is 3, but that is just a guess.  How do we know what the \"best\" number of states for training is?  We will need to find some model selection technique to choose the best parameter."
   ]
  },
  {
   "cell_type": "code",
   "execution_count": 16,
   "metadata": {
    "collapsed": false,
    "deletable": true,
    "editable": true
   },
   "outputs": [
    {
     "name": "stdout",
     "output_type": "stream",
     "text": [
      "Number of states trained in model for BOOK is 3\n",
      "logL = -2331.1138127433164\n"
     ]
    }
   ],
   "source": [
    "import warnings\n",
    "from hmmlearn.hmm import GaussianHMM\n",
    "\n",
    "def train_a_word(word, num_hidden_states, features):\n",
    "    # train a single word using Gaussian hmm and EM fit algorithm\n",
    "    warnings.filterwarnings(\"ignore\", category=DeprecationWarning)\n",
    "    training = asl.build_training(features)  \n",
    "    X, lengths = training.get_word_Xlengths(word)\n",
    "    model = GaussianHMM(n_components=num_hidden_states, n_iter=1000).fit(X, lengths)\n",
    "    logL = model.score(X, lengths)\n",
    "    return model, logL\n",
    "\n",
    "demoword = 'BOOK'\n",
    "model, logL = train_a_word(demoword, 3, features_ground)\n",
    "print(\"Number of states trained in model for {} is {}\".format(demoword, model.n_components))\n",
    "print(\"logL = {}\".format(logL))"
   ]
  },
  {
   "cell_type": "markdown",
   "metadata": {
    "deletable": true,
    "editable": true
   },
   "source": [
    "The HMM model has been trained and information can be pulled from the model, including means and variances for each feature and hidden state.  The [log likelihood](http://math.stackexchange.com/questions/892832/why-we-consider-log-likelihood-instead-of-likelihood-in-gaussian-distribution) for any individual sample or group of samples can also be calculated with the `score` method."
   ]
  },
  {
   "cell_type": "code",
   "execution_count": 17,
   "metadata": {
    "collapsed": false,
    "deletable": true,
    "editable": true
   },
   "outputs": [
    {
     "name": "stdout",
     "output_type": "stream",
     "text": [
      "Number of states trained in model for BOOK is 3\n",
      "hidden state #0\n",
      "mean =  [ -1.12415027  69.44164191  17.02866283  77.7231196 ]\n",
      "variance =  [ 19.70434594  16.83041492  30.51552305  11.03678246]\n",
      "\n",
      "hidden state #1\n",
      "mean =  [ -3.46504869  50.66686933  14.02391587  52.04731066]\n",
      "variance =  [ 49.12346305  43.04799144  39.35109609  47.24195772]\n",
      "\n",
      "hidden state #2\n",
      "mean =  [ -11.45300909   94.109178     19.03512475  102.2030162 ]\n",
      "variance =  [  77.403668    203.35441965   26.68898447  156.12444034]\n",
      "\n",
      "means dim (3, 4) = 12\n",
      "covars dim (3, 4, 4) = 48 \n",
      " [[[  19.70434594    0.            0.            0.        ]\n",
      "  [   0.           16.83041492    0.            0.        ]\n",
      "  [   0.            0.           30.51552305    0.        ]\n",
      "  [   0.            0.            0.           11.03678246]]\n",
      "\n",
      " [[  49.12346305    0.            0.            0.        ]\n",
      "  [   0.           43.04799144    0.            0.        ]\n",
      "  [   0.            0.           39.35109609    0.        ]\n",
      "  [   0.            0.            0.           47.24195772]]\n",
      "\n",
      " [[  77.403668      0.            0.            0.        ]\n",
      "  [   0.          203.35441965    0.            0.        ]\n",
      "  [   0.            0.           26.68898447    0.        ]\n",
      "  [   0.            0.            0.          156.12444034]]]\n",
      "[0 1 2 3 0 1 2 3 0 1 2 3]\n",
      "12\n"
     ]
    }
   ],
   "source": [
    "def show_model_stats(word, model):\n",
    "    print(\"Number of states trained in model for {} is {}\".format(word, model.n_components))    \n",
    "    variance=np.array([np.diag(model.covars_[i]) for i in range(model.n_components)])    \n",
    "    for i in range(model.n_components):  # for each hidden state\n",
    "        print(\"hidden state #{}\".format(i))\n",
    "        print(\"mean = \", model.means_[i])\n",
    "        print(\"variance = \", variance[i])\n",
    "        print()\n",
    "    dim = model.means_.shape\n",
    "    print(f'means dim {dim} = {model.means_.size}')\n",
    "    dim = model.covars_.shape\n",
    "    print(f'covars dim {dim} = {model.covars_.size} \\n {model.covars_}')\n",
    "    idx_covars = np.where(model.covars_ >= model.min_covar)[1]\n",
    "    print(f'{idx_covars}')\n",
    "    print(f'{np.count_nonzero(model.covars_)}')\n",
    "    \n",
    "show_model_stats(demoword, model)\n"
   ]
  },
  {
   "cell_type": "markdown",
   "metadata": {
    "deletable": true,
    "editable": true
   },
   "source": [
    "##### Try it!\n",
    "Experiment by changing the feature set, word, and/or num_hidden_states values in the next cell to see changes in values.  "
   ]
  },
  {
   "cell_type": "code",
   "execution_count": 18,
   "metadata": {
    "collapsed": false,
    "deletable": true,
    "editable": true
   },
   "outputs": [
    {
     "name": "stdout",
     "output_type": "stream",
     "text": [
      "Number of states trained in model for CHOCOLATE is 3\n",
      "hidden state #0\n",
      "mean =  [ -5.40587658  60.1652424    2.32479599  91.3095432 ]\n",
      "variance =  [   7.95073876   64.13103127   13.68077479  129.5912395 ]\n",
      "\n",
      "hidden state #1\n",
      "mean =  [ -9.30211403  55.32333876   6.92259936  71.24057775]\n",
      "variance =  [ 16.16920957  46.50917372   3.81388185  15.79446427]\n",
      "\n",
      "hidden state #2\n",
      "mean =  [   0.58333333   87.91666667   12.75        108.5       ]\n",
      "variance =  [  39.41055556   18.74388889    9.855       144.4175    ]\n",
      "\n",
      "means dim (3, 4) = 12\n",
      "covars dim (3, 4, 4) = 48 \n",
      " [[[   7.95073876    0.            0.            0.        ]\n",
      "  [   0.           64.13103127    0.            0.        ]\n",
      "  [   0.            0.           13.68077479    0.        ]\n",
      "  [   0.            0.            0.          129.5912395 ]]\n",
      "\n",
      " [[  16.16920957    0.            0.            0.        ]\n",
      "  [   0.           46.50917372    0.            0.        ]\n",
      "  [   0.            0.            3.81388185    0.        ]\n",
      "  [   0.            0.            0.           15.79446427]]\n",
      "\n",
      " [[  39.41055556    0.            0.            0.        ]\n",
      "  [   0.           18.74388889    0.            0.        ]\n",
      "  [   0.            0.            9.855         0.        ]\n",
      "  [   0.            0.            0.          144.4175    ]]]\n",
      "[0 1 2 3 0 1 2 3 0 1 2 3]\n",
      "12\n",
      "logL = -601.3291470028635\n"
     ]
    }
   ],
   "source": [
    "my_testword = 'CHOCOLATE'\n",
    "model, logL = train_a_word(my_testword, 3, features_ground) # Experiment here with different parameters\n",
    "show_model_stats(my_testword, model)\n",
    "print(\"logL = {}\".format(logL))\n",
    "model0 = model"
   ]
  },
  {
   "cell_type": "code",
   "execution_count": 47,
   "metadata": {
    "collapsed": false,
    "deletable": true,
    "editable": true
   },
   "outputs": [
    {
     "name": "stdout",
     "output_type": "stream",
     "text": [
      "Number of states trained in model for CHOCOLATE is 3\n",
      "hidden state #0\n",
      "mean =  [ -9.30211403  55.32333876   6.92259936  71.24057775]\n",
      "variance =  [ 16.16920957  46.50917372   3.81388185  15.79446427]\n",
      "\n",
      "hidden state #1\n",
      "mean =  [   0.58333333   87.91666667   12.75        108.5       ]\n",
      "variance =  [  39.41055556   18.74388889    9.855       144.4175    ]\n",
      "\n",
      "hidden state #2\n",
      "mean =  [ -5.40587658  60.1652424    2.32479599  91.3095432 ]\n",
      "variance =  [   7.95073876   64.13103127   13.68077479  129.5912395 ]\n",
      "\n",
      "Number of states trained in model for CHOCOLATE is 3\n",
      "hidden state #0\n",
      "mean =  [ 0.07434035  4.32590509  1.08475329  2.81908645]\n",
      "variance =  [ 14.12290048  15.39826602  12.40214192  17.46963045]\n",
      "\n",
      "hidden state #1\n",
      "mean =  [-0.54151701 -0.13549492  0.          0.        ]\n",
      "variance =  [  7.40033314e+00   2.07610444e-01   4.54757788e-04   4.54757788e-04]\n",
      "\n",
      "hidden state #2\n",
      "mean =  [ 2.26955318 -0.2690072  -0.67005544 -9.1341518 ]\n",
      "variance =  [  9.26031519   7.66293533   7.67530134  15.28076516]\n",
      "\n",
      "Number of states trained in model for CHOCOLATE is 3\n",
      "hidden state #0\n",
      "mean =  [  6.05010053e+01  -9.31757873e-02   9.14166393e+01   2.57297227e-02]\n",
      "variance =  [  6.15523307e+01   3.56540651e-03   1.30626433e+02   1.81995354e-03]\n",
      "\n",
      "hidden state #1\n",
      "mean =  [  8.81313612e+01   8.31771967e-03   1.09304329e+02   1.18434797e-01]\n",
      "variance =  [  2.06973439e+01   5.41190376e-03   1.41647879e+02   1.92144403e-03]\n",
      "\n",
      "hidden state #2\n",
      "mean =  [ 56.19235087  -0.16348589  71.60640024   0.0958256 ]\n",
      "variance =  [  5.16348282e+01   4.22849414e-03   1.74535632e+01   1.18341913e-03]\n",
      "\n",
      "Number of states trained in model for CHOCOLATE is 3\n",
      "hidden state #0\n",
      "mean =  [ 0.53813142 -0.04704542  0.04545    -0.61902479]\n",
      "variance =  [ 0.02432711  0.04933945  0.03044391  0.13395751]\n",
      "\n",
      "hidden state #1\n",
      "mean =  [ 1.0625066  -0.1740204  -1.31812255 -1.61791893]\n",
      "variance =  [ 0.05296979  0.00373254  0.03820247  0.05531266]\n",
      "\n",
      "hidden state #2\n",
      "mean =  [ 0.38934967 -0.18383814 -0.34623283 -1.59201968]\n",
      "variance =  [ 0.0697732   0.02960059  0.07727065  0.06911305]\n",
      "\n",
      "Number of states trained in model for CHOCOLATE is 3\n",
      "hidden state #0\n",
      "mean =  [-0.00574365  0.02242323 -0.29373549  0.00254902]\n",
      "variance =  [ 0.00505736  0.00225752  0.02562175  0.00128484]\n",
      "\n",
      "hidden state #1\n",
      "mean =  [-0.00326875 -0.0037816  -0.00174983  0.00221879]\n",
      "variance =  [ 0.00061085  0.00217267  0.0005317   0.00057012]\n",
      "\n",
      "hidden state #2\n",
      "mean =  [ 0.14634415  0.00528139  0.12616687  0.0030926 ]\n",
      "variance =  [ 0.01212913  0.003875    0.0175637   0.00224153]\n",
      "\n",
      "Number of states trained in model for CHOCOLATE is 4\n",
      "hidden state #0\n",
      "mean =  [ -9.23835975  55.307463     6.92298661  71.30538347]\n",
      "variance =  [ 16.30887738  45.97071639   3.76856896  15.98215464]\n",
      "\n",
      "hidden state #1\n",
      "mean =  [   0.58333258   87.91666611   12.75000001  108.49999882]\n",
      "variance =  [  39.4105671    18.74389523    9.85499958  144.41752618]\n",
      "\n",
      "hidden state #2\n",
      "mean =  [  -6.37712306   51.09867416    3.64009161  104.46268173]\n",
      "variance =  [  10.28220014   12.44316166   27.33390004  106.91029392]\n",
      "\n",
      "hidden state #3\n",
      "mean =  [ -4.93681705  64.73171915   1.62598519  84.91459657]\n",
      "variance =  [  6.1617479   28.36616959   5.47102461  13.11696032]\n",
      "\n",
      "Number of states trained in model for CHOCOLATE is 4\n",
      "hidden state #0\n",
      "mean =  [ 0.          0.          0.2640934  -0.83372712]\n",
      "variance =  [  4.39758676e-04   4.39758676e-04   2.65692455e+00   4.34812720e+00]\n",
      "\n",
      "hidden state #1\n",
      "mean =  [ 0.28571693  5.14285217  0.42857031  5.71426918]\n",
      "variance =  [ 17.0626361   19.26672399  15.67485359   7.06272735]\n",
      "\n",
      "hidden state #2\n",
      "mean =  [  2.83210442  -0.58307903  -0.50023438 -10.33228807]\n",
      "variance =  [ 9.97221031  8.57365488  9.08040177  9.22168764]\n",
      "\n",
      "hidden state #3\n",
      "mean =  [-1.7918641  2.2053554  0.         0.       ]\n",
      "variance =  [  2.69765304e+01   9.47259772e+00   1.37835442e-03   1.37835442e-03]\n",
      "\n",
      "Number of states trained in model for CHOCOLATE is 4\n",
      "hidden state #0\n",
      "mean =  [ 56.17154551  -0.16250677  71.66108632   0.09577166]\n",
      "variance =  [  5.11173643e+01   4.27038136e-03   1.75371308e+01   1.17098119e-03]\n",
      "\n",
      "hidden state #1\n",
      "mean =  [  8.81313612e+01   8.31771967e-03   1.09304329e+02   1.18434797e-01]\n",
      "variance =  [  2.06973439e+01   5.41190376e-03   1.41647879e+02   1.92144403e-03]\n",
      "\n",
      "hidden state #2\n",
      "mean =  [  6.49632044e+01  -7.66403980e-02   8.49757244e+01   1.96185603e-02]\n",
      "variance =  [  2.79180069e+01   2.22699762e-03   1.33802459e+01   1.33728783e-03]\n",
      "\n",
      "hidden state #3\n",
      "mean =  [  5.16001808e+01  -1.26933047e-01   1.04679618e+02   3.69311588e-02]\n",
      "variance =  [  1.04391476e+01   5.89039623e-03   1.06209410e+02   3.80882831e-03]\n",
      "\n",
      "Number of states trained in model for CHOCOLATE is 4\n",
      "hidden state #0\n",
      "mean =  [ 0.49163141 -0.34766944 -0.19907141 -0.31200148]\n",
      "variance =  [ 0.02973162  0.00401851  0.00934483  0.2921408 ]\n",
      "\n",
      "hidden state #1\n",
      "mean =  [ 0.47581504 -0.25534057 -0.32768595 -1.7243523 ]\n",
      "variance =  [ 0.042362    0.00442977  0.00152113  0.0066983 ]\n",
      "\n",
      "hidden state #2\n",
      "mean =  [ 0.494375    0.05588065  0.10128493 -0.81554085]\n",
      "variance =  [ 0.05344461  0.02787475  0.01792018  0.07558914]\n",
      "\n",
      "hidden state #3\n",
      "mean =  [ 0.9894402  -0.16006052 -1.31412901 -1.55560526]\n",
      "variance =  [ 0.10711401  0.00555855  0.03518414  0.09325342]\n",
      "\n",
      "Number of states trained in model for CHOCOLATE is 4\n",
      "hidden state #0\n",
      "mean =  [-0.00337838 -0.00387439 -0.00180249  0.00228626]\n",
      "variance =  [ 0.00062338  0.00223308  0.00054151  0.00058108]\n",
      "\n",
      "hidden state #1\n",
      "mean =  [-0.00642628  0.02007367 -0.28059725  0.00408891]\n",
      "variance =  [ 0.00482045  0.00227487  0.02702283  0.00129471]\n",
      "\n",
      "hidden state #2\n",
      "mean =  [ 0.17829161  0.01982868  0.0394034   0.00501468]\n",
      "variance =  [ 0.00349998  0.0066621   0.00473461  0.00207512]\n",
      "\n",
      "hidden state #3\n",
      "mean =  [ 0.13992348 -0.00435292  0.24357756 -0.00444223]\n",
      "variance =  [ 0.0186956   0.00296203  0.00519631  0.00430992]\n",
      "\n",
      "Number of states trained in model for CHOCOLATE is 5\n",
      "hidden state #0\n",
      "mean =  [   3.32089022   86.11784619   12.66977977  102.36987409]\n",
      "variance =  [ 12.48273231   7.43528515  12.86407411  24.73804616]\n",
      "\n",
      "hidden state #1\n",
      "mean =  [  -6.37753172   51.09767101    3.64019095  104.46455217]\n",
      "variance =  [  10.28279876   12.43850367   27.33782827  106.89825397]\n",
      "\n",
      "hidden state #2\n",
      "mean =  [  -7.70665738   93.36393433   12.99292645  127.06351815]\n",
      "variance =  [ 29.53966949  13.52107768   0.66764483  48.4385572 ]\n",
      "\n",
      "hidden state #3\n",
      "mean =  [ -4.93673736  64.73126904   1.62601029  84.91542811]\n",
      "variance =  [  6.16147276  28.36727822   5.4706657   13.12675543]\n",
      "\n",
      "hidden state #4\n",
      "mean =  [ -9.23826304  55.30740641   6.92298855  71.30558162]\n",
      "variance =  [ 16.30897315  45.96991798   3.76848558  15.98402053]\n",
      "\n",
      "Number of states trained in model for CHOCOLATE is 5\n",
      "hidden state #0\n",
      "mean =  [ 0.  0.  0.  0.]\n",
      "variance =  [ 0.00052632  0.00052632  0.00052632  0.00052632]\n",
      "\n",
      "hidden state #1\n",
      "mean =  [ 0.27992772  5.03857383  0.50098876  5.57811661]\n",
      "variance =  [ 16.71828297  19.40146232  15.6103899    7.81512964]\n",
      "\n",
      "hidden state #2\n",
      "mean =  [-1.8571573   2.28567697  0.          0.        ]\n",
      "variance =  [  2.78381491e+01   9.63408486e+00   1.42857611e-03   1.42857611e-03]\n",
      "\n",
      "hidden state #3\n",
      "mean =  [ 4.99999995 -3.39999994 -1.99999998 -8.80000002]\n",
      "variance =  [ 11.60200005   5.04200023   5.20200003  13.3619999 ]\n",
      "\n",
      "hidden state #4\n",
      "mean =  [ 0.82909741  0.92123543  0.86783295 -9.10672381]\n",
      "variance =  [  2.35354263   1.36322146  10.82584824  14.05954138]\n",
      "\n",
      "Number of states trained in model for CHOCOLATE is 5\n",
      "hidden state #0\n",
      "mean =  [  6.49660812e+01  -7.66448776e-02   8.49704256e+01   1.96181830e-02]\n",
      "variance =  [  2.79101318e+01   2.22783106e-03   1.33175921e+01   1.33785207e-03]\n",
      "\n",
      "hidden state #1\n",
      "mean =  [  9.39868430e+01  -8.19420621e-02   1.28036029e+02   1.01850472e-01]\n",
      "variance =  [  1.69680395e+01   6.36962530e-03   4.61929559e+01   3.59020967e-03]\n",
      "\n",
      "hidden state #2\n",
      "mean =  [  5.16058030e+01  -1.26880309e-01   1.04673109e+02   3.69179729e-02]\n",
      "variance =  [  1.04668514e+01   5.88861476e-03   1.06176215e+02   3.80580239e-03]\n",
      "\n",
      "hidden state #3\n",
      "mean =  [ 56.17156009  -0.16250762  71.6610455    0.0957717 ]\n",
      "variance =  [  5.11178106e+01   4.27034255e-03   1.75372037e+01   1.17099160e-03]\n",
      "\n",
      "hidden state #4\n",
      "mean =  [  8.62831931e+01   3.68064503e-02   1.03392035e+02   1.23669315e-01]\n",
      "variance =  [  7.63788241e+00   2.82298201e-03   2.60749056e+01   2.37687842e-03]\n",
      "\n",
      "Number of states trained in model for CHOCOLATE is 5\n",
      "hidden state #0\n",
      "mean =  [ 0.47584589 -0.25533689 -0.32767985 -1.72432406]\n",
      "variance =  [ 0.04236558  0.00442938  0.00152129  0.00670457]\n",
      "\n",
      "hidden state #1\n",
      "mean =  [ 0.49157954 -0.34769502 -0.19905764 -0.3117678 ]\n",
      "variance =  [ 0.02972448  0.00401613  0.0093452   0.29192866]\n",
      "\n",
      "hidden state #2\n",
      "mean =  [ 1.10241819 -0.18161882 -1.31638751 -1.67322035]\n",
      "variance =  [ 0.04076822  0.00347005  0.04198918  0.02724474]\n",
      "\n",
      "hidden state #3\n",
      "mean =  [ 0.49437513  0.05588034  0.10128496 -0.81554027]\n",
      "variance =  [ 0.05344456  0.0278748   0.01792016  0.07558935]\n",
      "\n",
      "hidden state #4\n",
      "mean =  [ 0.42628493 -0.05260003 -1.3028712  -0.96933571]\n",
      "variance =  [ 0.06204346  0.00709175  0.00609844  0.01460437]\n",
      "\n",
      "Number of states trained in model for CHOCOLATE is 5\n",
      "hidden state #0\n",
      "mean =  [-0.00321055 -0.00368793 -0.00171351  0.00217303]\n",
      "variance =  [ 0.00059579  0.00212641  0.00051764  0.00055533]\n",
      "\n",
      "hidden state #1\n",
      "mean =  [ 0.01614896  0.03028545 -0.42859148  0.00789646]\n",
      "variance =  [ 0.00499741  0.00230483  0.00673075  0.00198024]\n",
      "\n",
      "hidden state #2\n",
      "mean =  [ 0.16403376  0.01724722  0.03242563  0.00408201]\n",
      "variance =  [ 0.00384463  0.00563667  0.0041487   0.00173974]\n",
      "\n",
      "hidden state #3\n",
      "mean =  [-0.04250364  0.01438727 -0.20218363  0.00136107]\n",
      "variance =  [ 0.00390544  0.00383188  0.00789238  0.00214772]\n",
      "\n",
      "hidden state #4\n",
      "mean =  [ 0.14074473 -0.00442026  0.24204864 -0.00429218]\n",
      "variance =  [ 0.01859796  0.00293506  0.00540261  0.00427195]\n",
      "\n",
      "Number of states trained in model for CHOCOLATE is 6\n",
      "hidden state #0\n",
      "mean =  [  -7.70661407   93.36390122   12.99293408  127.06344937]\n",
      "variance =  [ 29.53969265  13.52111958   0.66764747  48.4388134 ]\n",
      "\n",
      "hidden state #1\n",
      "mean =  [ -5.67200656  63.50085077   1.79912754  83.30021812]\n",
      "variance =  [ 4.81899404  9.60606282  3.36217488  0.2108669 ]\n",
      "\n",
      "hidden state #2\n",
      "mean =  [   3.32090354   86.11783896   12.66977644  102.36983493]\n",
      "variance =  [ 12.48269266   7.43528296  12.8641019   24.73749611]\n",
      "\n",
      "hidden state #3\n",
      "mean =  [  -6.95537897   49.68391588    3.77778556  107.5884027 ]\n",
      "variance =  [ 11.89715016   5.39373548  34.8758451   96.62732487]\n",
      "\n",
      "hidden state #4\n",
      "mean =  [ -8.22222307  51.88888848   6.          69.        ]\n",
      "variance =  [  9.06283787e+00   1.43320928e+00   1.11111135e-03   1.11111136e-03]\n",
      "\n",
      "hidden state #5\n",
      "mean =  [ -6.70724054  63.61794592   4.92582527  85.82020616]\n",
      "variance =  [ 30.12320855  82.03280313  21.69925611  83.38913158]\n",
      "\n",
      "Number of states trained in model for CHOCOLATE is 6\n",
      "hidden state #0\n",
      "mean =  [ 0.  0.  0.  0.]\n",
      "variance =  [ 0.00052632  0.00052632  0.00052632  0.00052632]\n",
      "\n",
      "hidden state #1\n",
      "mean =  [  1.00000352e+00   1.11111624e+00   1.17823473e-05  -1.03333488e+01]\n",
      "variance =  [ 2.66778348  1.43321157  8.44555374  7.33441054]\n",
      "\n",
      "hidden state #2\n",
      "mean =  [-1.85712907  2.28569211  0.          0.        ]\n",
      "variance =  [  2.78379636e+01   9.63404388e+00   1.42856016e-03   1.42856016e-03]\n",
      "\n",
      "hidden state #3\n",
      "mean =  [  6.5   -3.25  -1.75 -10.25]\n",
      "variance =  [ 3.2525  6.19    6.19    6.19  ]\n",
      "\n",
      "hidden state #4\n",
      "mean =  [-0.20030796 -0.39808646 -0.19941007  1.60037762]\n",
      "variance =  [  0.56245259  13.46168098  28.5603392   35.83749662]\n",
      "\n",
      "hidden state #5\n",
      "mean =  [ 0.40039612  6.79911739  2.19973184  4.60000012]\n",
      "variance =  [ 23.44438232   7.36145814   0.96167063   3.04318323]\n",
      "\n",
      "Number of states trained in model for CHOCOLATE is 6\n",
      "hidden state #0\n",
      "mean =  [ 56.17159473  -0.16237242  71.66109458   0.09577246]\n",
      "variance =  [  5.10499019e+01   4.27861124e-03   1.74241628e+01   1.16962543e-03]\n",
      "\n",
      "hidden state #1\n",
      "mean =  [  8.62842090e+01   3.67849510e-02   1.03397680e+02   1.23667135e-01]\n",
      "variance =  [  7.63786663e+00   2.82322134e-03   2.61521483e+01   2.37601751e-03]\n",
      "\n",
      "hidden state #2\n",
      "mean =  [  6.23339663e+01  -6.12425913e-02   9.30755708e+01   2.69172968e-02]\n",
      "variance =  [  1.02422571e+02   3.37640831e-03   2.01407381e+01   3.11060773e-03]\n",
      "\n",
      "hidden state #3\n",
      "mean =  [  4.98754033e+01  -1.46390653e-01   1.11002934e+02   3.34683134e-02]\n",
      "variance =  [  2.81181011e+00   7.79640694e-03   4.86540581e+01   5.55031757e-03]\n",
      "\n",
      "hidden state #4\n",
      "mean =  [  9.39926378e+01  -8.20128532e-02   1.28046965e+02   1.01831845e-01]\n",
      "variance =  [  1.69591664e+01   6.37270599e-03   4.61431752e+01   3.59410596e-03]\n",
      "\n",
      "hidden state #5\n",
      "mean =  [  6.37594042e+01  -8.82383088e-02   8.33451815e+01   2.14435602e-02]\n",
      "variance =  [  9.72225963e+00   2.03976177e-03   1.93044739e-01   1.26186977e-03]\n",
      "\n",
      "Number of states trained in model for CHOCOLATE is 6\n",
      "hidden state #0\n",
      "mean =  [ 0.55580583  0.04337531  0.1140995  -0.74984163]\n",
      "variance =  [ 0.02116962  0.02728445  0.0163913   0.04040955]\n",
      "\n",
      "hidden state #1\n",
      "mean =  [ 1.10241819 -0.18161882 -1.31638751 -1.67322035]\n",
      "variance =  [ 0.04076822  0.00347005  0.04198918  0.02724474]\n",
      "\n",
      "hidden state #2\n",
      "mean =  [-0.05817798  0.16808125 -0.01393971 -1.40597426]\n",
      "variance =  [ 0.00951038  0.02424243  0.02189106  0.00981425]\n",
      "\n",
      "hidden state #3\n",
      "mean =  [ 0.42628493 -0.05260003 -1.3028712  -0.96933571]\n",
      "variance =  [ 0.06204346  0.00709175  0.00609844  0.01460437]\n",
      "\n",
      "hidden state #4\n",
      "mean =  [ 0.47634538 -0.25527484 -0.32757992 -1.72386453]\n",
      "variance =  [ 0.04242315  0.00442344  0.00152383  0.0068062 ]\n",
      "\n",
      "hidden state #5\n",
      "mean =  [ 0.49069431 -0.3481582  -0.19894288 -0.30794716]\n",
      "variance =  [ 0.02961251  0.00397222  0.0093177   0.28854303]\n",
      "\n",
      "Number of states trained in model for CHOCOLATE is 6\n",
      "hidden state #0\n",
      "mean =  [-0.01041398  0.04258727 -0.350998   -0.00120389]\n",
      "variance =  [ 0.00514185  0.00170261  0.00706556  0.00131469]\n",
      "\n",
      "hidden state #1\n",
      "mean =  [ -2.76888644e-05   4.44247754e-05  -1.79688214e-03   2.27902206e-03]\n",
      "variance =  [ 0.00050361  0.00050604  0.0005669   0.00060634]\n",
      "\n",
      "hidden state #2\n",
      "mean =  [ 0.14075302 -0.00442105  0.24205232 -0.00429197]\n",
      "variance =  [ 0.0185975   0.00293508  0.00540138  0.00427204]\n",
      "\n",
      "hidden state #3\n",
      "mean =  [-0.04099219 -0.03064317 -0.08151464  0.00602728]\n",
      "variance =  [ 0.00303565  0.00853665  0.00639889  0.00271599]\n",
      "\n",
      "hidden state #4\n",
      "mean =  [ 0.16378975  0.01739744  0.03238894  0.00406825]\n",
      "variance =  [ 0.00388743  0.00562597  0.00414386  0.00173729]\n",
      "\n",
      "hidden state #5\n",
      "mean =  [ 0.0687523  -0.0348813  -0.59880866  0.05578866]\n",
      "variance =  [ 0.00999999  0.01000001  0.01000012  0.00999999]\n",
      "\n",
      "(3, ['grnd-rx', 'grnd-ry', 'grnd-lx', 'grnd-ly']) = -601.3291470028632\n",
      "(3, ['delta-rx', 'delta-ry', 'delta-lx', 'delta-ly']) = -256.56151832675334\n",
      "(3, ['polar-rr', 'polar-rtheta', 'polar-lr', 'polar-ltheta']) = -179.21522065553492\n",
      "(3, ['norm-rx', 'norm-ry', 'norm-lx', 'norm-ly']) = 22.651977224475218\n",
      "(3, ['delta-rr', 'delta-rtheta', 'delta-lr', 'delta-ltheta']) = 327.8984704248132\n",
      "(4, ['grnd-rx', 'grnd-ry', 'grnd-lx', 'grnd-ly']) = -565.124333433119\n",
      "(4, ['delta-rx', 'delta-ry', 'delta-lx', 'delta-ly']) = -202.21153871935215\n",
      "(4, ['polar-rr', 'polar-rtheta', 'polar-lr', 'polar-ltheta']) = -142.95304877220394\n",
      "(4, ['norm-rx', 'norm-ry', 'norm-lx', 'norm-ly']) = 85.72111948347724\n",
      "(4, ['delta-rr', 'delta-rtheta', 'delta-lr', 'delta-ltheta']) = 335.7372777041853\n",
      "(5, ['grnd-rx', 'grnd-ry', 'grnd-lx', 'grnd-ly']) = -544.2490114712278\n",
      "(5, ['delta-rx', 'delta-ry', 'delta-lx', 'delta-ly']) = -59.11265717009594\n",
      "(5, ['polar-rr', 'polar-rtheta', 'polar-lr', 'polar-ltheta']) = -126.87164558153297\n",
      "(5, ['norm-rx', 'norm-ry', 'norm-lx', 'norm-ly']) = 103.40368088106224\n",
      "(5, ['delta-rr', 'delta-rtheta', 'delta-lr', 'delta-ltheta']) = 344.2722819596688\n",
      "(6, ['grnd-rx', 'grnd-ry', 'grnd-lx', 'grnd-ly']) = -427.23856123193576\n",
      "(6, ['delta-rx', 'delta-ry', 'delta-lx', 'delta-ly']) = -43.864888902318974\n",
      "(6, ['polar-rr', 'polar-rtheta', 'polar-lr', 'polar-ltheta']) = -95.26915704258629\n",
      "(6, ['norm-rx', 'norm-ry', 'norm-lx', 'norm-ly']) = 123.7751301819539\n",
      "(6, ['delta-rr', 'delta-rtheta', 'delta-lr', 'delta-ltheta']) = 362.5336046645327\n"
     ]
    }
   ],
   "source": [
    "# search for best parameters\n",
    "res = []\n",
    "param = [(i, f) for i in range(3,7) \n",
    "         for f in [features_ground,features_delta,features_polar,features_norm,features_custom]]\n",
    "for p in param:        \n",
    "    model, logL = train_a_word(my_testword, p[0], p[1]) \n",
    "    show_model_stats(my_testword, model)\n",
    "    res.append(logL)\n",
    "\n",
    "for i in range(len(param)):\n",
    "    print(f'{param[i]} = {res[i]}')"
   ]
  },
  {
   "cell_type": "code",
   "execution_count": 19,
   "metadata": {
    "collapsed": false,
    "deletable": true,
    "editable": true,
    "scrolled": true
   },
   "outputs": [
    {
     "name": "stdout",
     "output_type": "stream",
     "text": [
      "Number of states trained in model for CHOCOLATE is 6\n",
      "hidden state #0\n",
      "mean =  [ -2.74289059e-05   4.35210261e-05  -1.83070307e-03   2.32133267e-03]\n",
      "variance =  [ 0.00050278  0.00050514  0.00056727  0.00060737]\n",
      "\n",
      "hidden state #1\n",
      "mean =  [-0.05152262  0.03577697 -0.25873963 -0.01174639]\n",
      "variance =  [ 0.00503789  0.0027102   0.01050454  0.00174804]\n",
      "\n",
      "hidden state #2\n",
      "mean =  [ 0.1629102   0.01781394  0.03180429  0.00396588]\n",
      "variance =  [ 0.0038836   0.00571009  0.00418801  0.00176571]\n",
      "\n",
      "hidden state #3\n",
      "mean =  [ 0.03463374  0.02694626 -0.43169408  0.01158552]\n",
      "variance =  [ 0.00263755  0.00259251  0.00761343  0.00219265]\n",
      "\n",
      "hidden state #4\n",
      "mean =  [ 0.19365083 -0.00905147  0.22027314 -0.00342452]\n",
      "variance =  [ 0.00864284  0.00345042  0.00514891  0.00518   ]\n",
      "\n",
      "hidden state #5\n",
      "mean =  [-0.04575071 -0.0300304   0.01495669  0.01461327]\n",
      "variance =  [ 0.00316051  0.00987475  0.02780007  0.00263566]\n",
      "\n",
      "means dim (6, 4) = 24\n",
      "covars dim (6, 4, 4) = 96 \n",
      " [[[ 0.00050278  0.          0.          0.        ]\n",
      "  [ 0.          0.00050514  0.          0.        ]\n",
      "  [ 0.          0.          0.00056727  0.        ]\n",
      "  [ 0.          0.          0.          0.00060737]]\n",
      "\n",
      " [[ 0.00503789  0.          0.          0.        ]\n",
      "  [ 0.          0.0027102   0.          0.        ]\n",
      "  [ 0.          0.          0.01050454  0.        ]\n",
      "  [ 0.          0.          0.          0.00174804]]\n",
      "\n",
      " [[ 0.0038836   0.          0.          0.        ]\n",
      "  [ 0.          0.00571009  0.          0.        ]\n",
      "  [ 0.          0.          0.00418801  0.        ]\n",
      "  [ 0.          0.          0.          0.00176571]]\n",
      "\n",
      " [[ 0.00263755  0.          0.          0.        ]\n",
      "  [ 0.          0.00259251  0.          0.        ]\n",
      "  [ 0.          0.          0.00761343  0.        ]\n",
      "  [ 0.          0.          0.          0.00219265]]\n",
      "\n",
      " [[ 0.00864284  0.          0.          0.        ]\n",
      "  [ 0.          0.00345042  0.          0.        ]\n",
      "  [ 0.          0.          0.00514891  0.        ]\n",
      "  [ 0.          0.          0.          0.00518   ]]\n",
      "\n",
      " [[ 0.00316051  0.          0.          0.        ]\n",
      "  [ 0.          0.00987475  0.          0.        ]\n",
      "  [ 0.          0.          0.02780007  0.        ]\n",
      "  [ 0.          0.          0.          0.00263566]]]\n",
      "[0 1 2 3 0 1 2 3 0 1 2 3 0 1 2 3 0 1 2 3]\n",
      "24\n",
      "logL = 358.4548217724973\n"
     ]
    }
   ],
   "source": [
    "model, logL = train_a_word(my_testword, 6, features_custom) \n",
    "show_model_stats(my_testword, model)\n",
    "print(\"logL = {}\".format(logL))\n",
    "model7 = model"
   ]
  },
  {
   "cell_type": "markdown",
   "metadata": {
    "deletable": true,
    "editable": true
   },
   "source": [
    "##### Visualize the hidden states\n",
    "We can plot the means and variances for each state and feature.  Try varying the number of states trained for the HMM model and examine the variances.  Are there some models that are \"better\" than others?  How can you tell?  We would like to hear what you think in the classroom online."
   ]
  },
  {
   "cell_type": "code",
   "execution_count": 20,
   "metadata": {
    "collapsed": false,
    "deletable": true,
    "editable": true
   },
   "outputs": [],
   "source": [
    "%matplotlib inline"
   ]
  },
  {
   "cell_type": "code",
   "execution_count": 21,
   "metadata": {
    "collapsed": false,
    "deletable": true,
    "editable": true
   },
   "outputs": [
    {
     "data": {
      "image/png": "[encoded data removed]",
      "text/plain": [
       "<matplotlib.figure.Figure at 0xc9c5080>"
      ]
     },
     "metadata": {},
     "output_type": "display_data"
    },
    {
     "data": {
      "image/png": "[encoded data removed]",
      "text/plain": [
       "<matplotlib.figure.Figure at 0xcb1a6a0>"
      ]
     },
     "metadata": {},
     "output_type": "display_data"
    },
    {
     "data": {
      "image/png": "[encoded data removed]",
      "text/plain": [
       "<matplotlib.figure.Figure at 0xcbd0240>"
      ]
     },
     "metadata": {},
     "output_type": "display_data"
    },
    {
     "data": {
      "image/png": "[encoded data removed]",
      "text/plain": [
       "<matplotlib.figure.Figure at 0xcce7d68>"
      ]
     },
     "metadata": {},
     "output_type": "display_data"
    },
    {
     "data": {
      "image/png": "[encoded data removed]",
      "text/plain": [
       "<matplotlib.figure.Figure at 0xceaf860>"
      ]
     },
     "metadata": {},
     "output_type": "display_data"
    },
    {
     "data": {
      "image/png": "[encoded data removed]",
      "text/plain": [
       "<matplotlib.figure.Figure at 0xd3064a8>"
      ]
     },
     "metadata": {},
     "output_type": "display_data"
    },
    {
     "data": {
      "image/png": "[encoded data removed]",
      "text/plain": [
       "<matplotlib.figure.Figure at 0xd243908>"
      ]
     },
     "metadata": {},
     "output_type": "display_data"
    },
    {
     "data": {
      "image/png": "[encoded data removed]",
      "text/plain": [
       "<matplotlib.figure.Figure at 0xcc92a20>"
      ]
     },
     "metadata": {},
     "output_type": "display_data"
    }
   ],
   "source": [
    "import math\n",
    "from matplotlib import (cm, pyplot as plt, mlab)\n",
    "\n",
    "def visualize(word, model):\n",
    "    \"\"\" visualize the input model for a particular word \"\"\"\n",
    "    variance=np.array([np.diag(model.covars_[i]) for i in range(model.n_components)])\n",
    "    figures = []\n",
    "    for parm_idx in range(len(model.means_[0])):\n",
    "        xmin = int(min(model.means_[:,parm_idx]) - max(variance[:,parm_idx]))\n",
    "        xmax = int(max(model.means_[:,parm_idx]) + max(variance[:,parm_idx]))\n",
    "        fig, axs = plt.subplots(model.n_components, sharex=True, sharey=False)\n",
    "        colours = cm.rainbow(np.linspace(0, 1, model.n_components))\n",
    "        for i, (ax, colour) in enumerate(zip(axs, colours)):\n",
    "            x = np.linspace(xmin, xmax, 100)\n",
    "            mu = model.means_[i,parm_idx]\n",
    "            sigma = math.sqrt(np.diag(model.covars_[i])[parm_idx])\n",
    "            ax.plot(x, mlab.normpdf(x, mu, sigma), c=colour)\n",
    "            ax.set_title(\"{} feature {} hidden state #{}\".format(word, parm_idx, i))\n",
    "\n",
    "            ax.grid(True)\n",
    "        figures.append(plt)\n",
    "    for p in figures:\n",
    "        p.show()\n",
    "        \n",
    "visualize(my_testword, model0)\n",
    "visualize(my_testword, model7)"
   ]
  },
  {
   "cell_type": "markdown",
   "metadata": {
    "deletable": true,
    "editable": true
   },
   "source": [
    "#####  ModelSelector class\n",
    "Review the `ModelSelector` class from the codebase found in the `my_model_selectors.py` module.  It is designed to be a strategy pattern for choosing different model selectors.  For the project submission in this section, subclass `SelectorModel` to implement the following model selectors.  In other words, you will write your own classes/functions in the `my_model_selectors.py` module and run them from this notebook:\n",
    "\n",
    "- `SelectorCV `:  Log likelihood with CV\n",
    "- `SelectorBIC`: BIC \n",
    "- `SelectorDIC`: DIC\n",
    "\n",
    "You will train each word in the training set with a range of values for the number of hidden states, and then score these alternatives with the model selector, choosing the \"best\" according to each strategy. The simple case of training with a constant value for `n_components` can be called using the provided `SelectorConstant` subclass as follow:"
   ]
  },
  {
   "cell_type": "code",
   "execution_count": 22,
   "metadata": {
    "collapsed": true,
    "deletable": true,
    "editable": true
   },
   "outputs": [],
   "source": [
    "#reload new code chanves in my_model_selector\n",
    "from importlib import reload\n",
    "import my_model_selectors"
   ]
  },
  {
   "cell_type": "code",
   "execution_count": 23,
   "metadata": {
    "collapsed": false,
    "deletable": true,
    "editable": true
   },
   "outputs": [
    {
     "name": "stdout",
     "output_type": "stream",
     "text": [
      "model created for VEGETABLE with 2 states\n",
      "dic +15721.2 at  2 with pos +150.0 neg -15571.2\n",
      "model created for VEGETABLE with 3 states\n",
      "dic +18355.5 at  3 with pos +336.3 neg -18019.1\n",
      "model created for VEGETABLE with 4 states\n",
      "dic +19194.8 at  4 with pos +459.5 neg -18735.3\n",
      "model created for VEGETABLE with 5 states\n",
      "dic +90867.1 at  5 with pos +550.1 neg -90317.0\n",
      "model created for VEGETABLE with 6 states\n",
      "dic +63088.8 at  6 with pos +554.5 neg -62534.2\n",
      "model created for VEGETABLE with 7 states\n",
      "dic +57272.3 at  7 with pos +579.9 neg -56692.4\n",
      "model created for VEGETABLE with 8 states\n",
      "dic +57093.0 at  8 with pos +586.4 neg -56506.6\n",
      "model created for VEGETABLE with 9 states\n",
      "dic +40118.5 at  9 with pos +611.7 neg -39506.8\n",
      "model created for VEGETABLE with 10 states\n",
      "dic +17383.8 at 10 with pos +614.6 neg -16769.2\n",
      "Number of states trained in model for VEGETABLE is 5\n"
     ]
    }
   ],
   "source": [
    "reload(my_model_selectors)\n",
    "from my_model_selectors import (SelectorConstant, SelectorBIC, SelectorDIC)\n",
    "\n",
    "# features_custom bic: CHOCOLATE 3 VEGETABLE 2 BOOK 4 dic: CHOCOLATE 10 VEGETABLE 10 BOOK 10\n",
    "# features_norm   bic: CHOCOLATE 4 VEGETABLE 5 BOOK 5 dic: CHOCOLATE 10 VEGETABLE  5 BOOK 10\n",
    "word = 'VEGETABLE' \n",
    "features = features_norm # Experiment here with different feature sets defined in part 1\n",
    "Selector = SelectorDIC\n",
    "# run model selector\n",
    "training = asl.build_training(features) \n",
    "model = Selector(training.get_all_sequences(), training.get_all_Xlengths(), word, verbose=True).select()\n",
    "print(\"Number of states trained in model for {} is {}\".format(word, model.n_components))"
   ]
  },
  {
   "cell_type": "markdown",
   "metadata": {
    "deletable": true,
    "editable": true
   },
   "source": [
    "##### Cross-validation folds\n",
    "If we simply score the model with the Log Likelihood calculated from the feature sequences it has been trained on, we should expect that more complex models will have higher likelihoods. However, that doesn't tell us which would have a better likelihood score on unseen data.  The model will likely be overfit as complexity is added.  To estimate which topology model is better using only the training data, we can compare scores using cross-validation.  One technique for cross-validation is to break the training set into \"folds\" and rotate which fold is left out of training.  The \"left out\" fold scored.  This gives us a proxy method of finding the best model to use on \"unseen data\". In the following example, a set of word sequences is broken into three folds using the [scikit-learn Kfold](http://scikit-learn.org/stable/modules/generated/sklearn.model_selection.KFold.html) class object. When you implement `SelectorCV`, you will use this technique."
   ]
  },
  {
   "cell_type": "code",
   "execution_count": 141,
   "metadata": {
    "collapsed": false,
    "deletable": true,
    "editable": true
   },
   "outputs": [
    {
     "name": "stdout",
     "output_type": "stream",
     "text": [
      "Train fold indices:[2 3 4 5] Test fold indices:[0 1]\n",
      "Train fold indices:[0 1 4 5] Test fold indices:[2 3]\n",
      "Train fold indices:[0 1 2 3] Test fold indices:[4 5]\n",
      "-2265.3582879822843 [-4152.5483892470365, -540.87396360188177, -2102.6525110979342]\n"
     ]
    }
   ],
   "source": [
    "from sklearn.model_selection import KFold\n",
    "from asl_utils import combine_sequences\n",
    "\n",
    "training = asl.build_training(features_ground) # Experiment here with different feature sets\n",
    "word = 'VEGETABLE' # Experiment here with different words\n",
    "word_sequences = training.get_word_sequences(word)\n",
    "split_method = KFold()\n",
    "scores = []\n",
    "for cv_train_idx, cv_test_idx in split_method.split(word_sequences):\n",
    "    print(\"Train fold indices:{} Test fold indices:{}\".format(cv_train_idx, cv_test_idx))  # view indices of the folds\n",
    "    train_X, train_lengths = combine_sequences(cv_train_idx, word_sequences)\n",
    "    model = GaussianHMM(n_components=3, covariance_type=\"diag\", n_iter=1000,\n",
    "                            random_state=42, verbose=False).fit(train_X, train_lengths)\n",
    "    test_X, test_lengths = combine_sequences(cv_test_idx, word_sequences)\n",
    "    scores.append(model.score(test_X, test_lengths)) \n",
    "s = np.mean(scores)\n",
    "print(f'{s} {scores}')"
   ]
  },
  {
   "cell_type": "markdown",
   "metadata": {
    "deletable": true,
    "editable": true
   },
   "source": [
    "**Tip:** In order to run `hmmlearn` training using the X,lengths tuples on the new folds, subsets must be combined based on the indices given for the folds.  A helper utility has been provided in the `asl_utils` module named `combine_sequences` for this purpose."
   ]
  },
  {
   "cell_type": "markdown",
   "metadata": {
    "deletable": true,
    "editable": true
   },
   "source": [
    "##### Scoring models with other criterion\n",
    "Scoring model topologies with **BIC** balances fit and complexity within the training set for each word.  In the BIC equation, a penalty term penalizes complexity to avoid overfitting, so that it is not necessary to also use cross-validation in the selection process.  There are a number of references on the internet for this criterion.  These [slides](http://www2.imm.dtu.dk/courses/02433/doc/ch6_slides.pdf) include a formula you may find helpful for your implementation.\n",
    "\n",
    "The advantages of scoring model topologies with **DIC** over BIC are presented by Alain Biem in this [reference](http://citeseerx.ist.psu.edu/viewdoc/download?doi=10.1.1.58.6208&rep=rep1&type=pdf) (also found [here](https://pdfs.semanticscholar.org/ed3d/7c4a5f607201f3848d4c02dd9ba17c791fc2.pdf)).  DIC scores the discriminant ability of a training set for one word against competing words.  Instead of a penalty term for complexity, it provides a penalty if model liklihoods for non-matching words are too similar to model likelihoods for the correct word in the word set."
   ]
  },
  {
   "cell_type": "markdown",
   "metadata": {
    "deletable": true,
    "editable": true
   },
   "source": [
    "<a id='part2_submission'></a>\n",
    "### Model Selection Implementation Submission\n",
    "Implement `SelectorCV`, `SelectorBIC`, and `SelectorDIC` classes in the `my_model_selectors.py` module.  Run the selectors on the following five words. Then answer the questions about your results.\n",
    "\n",
    "**Tip:** The `hmmlearn` library may not be able to train or score all models.  Implement try/except contructs as necessary to eliminate non-viable models from consideration."
   ]
  },
  {
   "cell_type": "code",
   "execution_count": 24,
   "metadata": {
    "collapsed": false,
    "deletable": true,
    "editable": true
   },
   "outputs": [],
   "source": [
    "words_to_train = ['FISH', 'BOOK', 'VEGETABLE', 'FUTURE', 'JOHN']\n",
    "import timeit\n",
    "%load_ext autoreload \n",
    "%autoreload 2"
   ]
  },
  {
   "cell_type": "code",
   "execution_count": 25,
   "metadata": {
    "collapsed": false,
    "deletable": true,
    "editable": true
   },
   "outputs": [
    {
     "name": "stdout",
     "output_type": "stream",
     "text": [
      "Training complete for FISH with 2 states with time 0.05553231367775279 seconds\n",
      "Training complete for BOOK with 6 states with time 3.528321948169438 seconds\n",
      "Training complete for VEGETABLE with 2 states with time 1.2017911432839115 seconds\n",
      "Training complete for FUTURE with 2 states with time 3.413328646361152 seconds\n",
      "Training complete for JOHN with 12 states with time 30.159954630512036 seconds\n"
     ]
    }
   ],
   "source": [
    "# TODO: Implement SelectorCV in my_model_selector.py\n",
    "reload(my_model_selectors)\n",
    "from my_model_selectors import SelectorCV\n",
    "\n",
    "training = asl.build_training(features_ground)  # Experiment here with different feature sets defined in part 1\n",
    "sequences = training.get_all_sequences()\n",
    "Xlengths = training.get_all_Xlengths()\n",
    "for word in words_to_train:\n",
    "    start = timeit.default_timer()\n",
    "    model = SelectorCV(sequences, Xlengths, word, \n",
    "                    min_n_components=2, max_n_components=15, random_state = 14).select()\n",
    "    end = timeit.default_timer()-start\n",
    "    if model is not None:\n",
    "        print(\"Training complete for {} with {} states with time {} seconds\".format(word, model.n_components, end))\n",
    "    else:\n",
    "        print(\"Training failed for {}\".format(word))"
   ]
  },
  {
   "cell_type": "code",
   "execution_count": 155,
   "metadata": {
    "collapsed": false,
    "deletable": true,
    "editable": true
   },
   "outputs": [
    {
     "name": "stdout",
     "output_type": "stream",
     "text": [
      "Training complete for FISH with 5 states with time 0.17734584628487937 seconds\n",
      "Training complete for BOOK with 8 states with time 4.425752055976773 seconds\n",
      "Training complete for VEGETABLE with 9 states with time 1.4343617442355026 seconds\n",
      "Training complete for FUTURE with 9 states with time 3.1337562914704904 seconds\n",
      "Training complete for JOHN with 14 states with time 20.58462713411427 seconds\n"
     ]
    }
   ],
   "source": [
    "# TODO: Implement SelectorBIC in module my_model_selectors.py\n",
    "from my_model_selectors import SelectorBIC\n",
    "\n",
    "training = asl.build_training(features_ground)  # Experiment here with different feature sets defined in part 1\n",
    "sequences = training.get_all_sequences()\n",
    "Xlengths = training.get_all_Xlengths()\n",
    "for word in words_to_train:\n",
    "    start = timeit.default_timer()\n",
    "    model = SelectorBIC(sequences, Xlengths, word, \n",
    "                    min_n_components=2, max_n_components=15, random_state = 14).select()\n",
    "    end = timeit.default_timer()-start\n",
    "    if model is not None:\n",
    "        print(\"Training complete for {} with {} states with time {} seconds\".format(word, model.n_components, end))\n",
    "    else:\n",
    "        print(\"Training failed for {}\".format(word))"
   ]
  },
  {
   "cell_type": "code",
   "execution_count": 156,
   "metadata": {
    "collapsed": false,
    "deletable": true,
    "editable": true
   },
   "outputs": [
    {
     "name": "stdout",
     "output_type": "stream",
     "text": [
      "Training complete for FISH with 3 states with time 0.648834924591938 seconds\n",
      "Training complete for BOOK with 15 states with time 4.249557447590632 seconds\n",
      "Training complete for VEGETABLE with 15 states with time 3.034395223192405 seconds\n",
      "Training complete for FUTURE with 15 states with time 4.397689172124956 seconds\n",
      "Training complete for JOHN with 15 states with time 29.3731196388253 seconds\n"
     ]
    }
   ],
   "source": [
    "# TODO: Implement SelectorDIC in module my_model_selectors.py\n",
    "from my_model_selectors import SelectorDIC\n",
    "\n",
    "training = asl.build_training(features_ground)  # Experiment here with different feature sets defined in part 1\n",
    "sequences = training.get_all_sequences()\n",
    "Xlengths = training.get_all_Xlengths()\n",
    "for word in words_to_train:\n",
    "    start = timeit.default_timer()\n",
    "    model = SelectorDIC(sequences, Xlengths, word, \n",
    "                    min_n_components=2, max_n_components=15, random_state = 14).select()\n",
    "    end = timeit.default_timer()-start\n",
    "    if model is not None:\n",
    "        print(\"Training complete for {} with {} states with time {} seconds\".format(word, model.n_components, end))\n",
    "    else:\n",
    "        print(\"Training failed for {}\".format(word))"
   ]
  },
  {
   "cell_type": "markdown",
   "metadata": {
    "deletable": true,
    "editable": true
   },
   "source": [
    "**Question 2:**  Compare and contrast the possible advantages and disadvantages of the various model selectors implemented.\n",
    "\n",
    "**Answer 2:** BIC and CV selection methods are scoring model on ability to predict correct word. The BIC method is based on teoretical aproximation of balance between performance of HMM and its complexity. The CV method is using actual testing on unseen data to evaluate real generalization of HMM model. As in example below both these methods are very similar in its estimation. That true most of the time but not always. The main difference been BIC and CV is traid off between quality of estimation and performance. BIC is faster and using all train data to build the model which may lead to better quality of the model, replacing real generalization test by theoretical evaluation. CV performs real generalization test in loop of K times, that slows the selection process but gives more realistic evaluation of model quality when significant amount of training samples availabe. \n",
    "\n",
    "For word BOOK BIC predicts optimal quality at 4 stages model, CV test shows performance on unseed data is optimal at 5 stages model.\n",
    "\n",
    "DIC method belongs to different category. It makes selection score on ability of the model to diffirentiate correct word from incorrect one. That property is unique for multi category classification models.\n",
    "\n",
    "As you may see below. Ability to predict ford BOOK improves slowly with rising complexity, however performance to recognize incorrect words also improves with complexity which moves DIC evaluation score up to 10 stages model. This method is very usefull in scoring of classification models. Note, DIC method performance may suffer from using training error for positive score evaluation and can lead to poorly generalization model. There is room to improve DIC method if combine with CV approach."
   ]
  },
  {
   "cell_type": "code",
   "execution_count": 185,
   "metadata": {
    "collapsed": false,
    "deletable": true,
    "editable": true
   },
   "outputs": [
    {
     "name": "stdout",
     "output_type": "stream",
     "text": [
      "model created for BOOK with 2 states\n",
      "bic -1881.5 at 2\n",
      "model created for BOOK with 3 states\n",
      "bic -1656.7 at 3\n",
      "model created for BOOK with 4 states\n",
      "bic -1943.3 at 4\n",
      "model created for BOOK with 5 states\n",
      "bic -1884.8 at 5\n",
      "model created for BOOK with 6 states\n",
      "bic -1820.1 at 6\n",
      "model created for BOOK with 7 states\n",
      "bic -1765.4 at 7\n",
      "model created for BOOK with 8 states\n",
      "bic -1693.4 at 8\n",
      "model created for BOOK with 9 states\n",
      "bic -1582.4 at 9\n",
      "model created for BOOK with 10 states\n",
      "bic -1479.6 at 10\n",
      "BIC number of states trained in model for BOOK is 4\n",
      "\n",
      "cv +270.7 at  2 with min +217.9 max +319.2\n",
      "cv +297.1 at  3 with min +225.6 max +333.1\n",
      "cv +293.8 at  4 with min +205.1 max +346.1\n",
      "cv +319.1 at  5 with min +239.3 max +382.5\n",
      "cv +310.7 at  6 with min +241.5 max +358.6\n",
      "cv +307.9 at  7 with min +243.9 max +357.7\n",
      "cv +310.6 at  8 with min +242.6 max +357.9\n",
      "cv +312.1 at  9 with min +249.8 max +373.4\n",
      "cv +297.4 at 10 with min +224.5 max +379.8\n",
      "CV number of states trained in model for BOOK is 5\n",
      "\n",
      "model created for BOOK with 2 states\n",
      "dic +698.0 at  2 with pos +987.1 neg +289.1\n",
      "model created for BOOK with 3 states\n",
      "dic +694.0 at  3 with pos +905.6 neg +211.6\n",
      "model created for BOOK with 4 states\n",
      "dic +808.5 at  4 with pos +1084.9 neg +276.5\n",
      "model created for BOOK with 5 states\n",
      "dic +823.5 at  5 with pos +1096.8 neg +273.3\n",
      "model created for BOOK with 6 states\n",
      "dic +848.2 at  6 with pos +1110.8 neg +262.6\n",
      "model created for BOOK with 7 states\n",
      "dic +885.3 at  7 with pos +1134.9 neg +249.6\n",
      "model created for BOOK with 8 states\n",
      "dic +913.5 at  8 with pos +1155.5 neg +242.0\n",
      "model created for BOOK with 9 states\n",
      "dic +928.4 at  9 with pos +1161.8 neg +233.5\n",
      "model created for BOOK with 10 states\n",
      "dic +965.5 at 10 with pos +1177.3 neg +211.9\n",
      "DIC number of states trained in model for BOOK is 10\n",
      "\n"
     ]
    }
   ],
   "source": [
    "from my_model_selectors import (SelectorCV, SelectorBIC, SelectorDIC)\n",
    "\n",
    "word = 'BOOK' \n",
    "features = features_custom \n",
    "training = asl.build_training(features) \n",
    "# run model selectors\n",
    "model = SelectorBIC(training.get_all_sequences(), training.get_all_Xlengths(), word, verbose=True).select()\n",
    "print(\"BIC number of states trained in model for {} is {}\\n\".format(word, model.n_components))\n",
    "model = SelectorCV(training.get_all_sequences(), training.get_all_Xlengths(), word, verbose=True).select()\n",
    "print(\"CV number of states trained in model for {} is {}\\n\".format(word, model.n_components))\n",
    "model = SelectorDIC(training.get_all_sequences(), training.get_all_Xlengths(), word, verbose=True).select()\n",
    "print(\"DIC number of states trained in model for {} is {}\\n\".format(word, model.n_components))"
   ]
  },
  {
   "cell_type": "markdown",
   "metadata": {
    "deletable": true,
    "editable": true
   },
   "source": [
    "<a id='part2_test'></a>\n",
    "### Model Selector Unit Testing\n",
    "Run the following unit tests as a sanity check on the implemented model selectors.  The test simply looks for valid interfaces  but is not exhaustive. However, the project should not be submitted if these tests don't pass."
   ]
  },
  {
   "cell_type": "code",
   "execution_count": 26,
   "metadata": {
    "collapsed": false,
    "deletable": true,
    "editable": true
   },
   "outputs": [
    {
     "name": "stderr",
     "output_type": "stream",
     "text": [
      "....\n",
      "----------------------------------------------------------------------\n",
      "Ran 4 tests in 37.644s\n",
      "\n",
      "OK\n"
     ]
    },
    {
     "data": {
      "text/plain": [
       "<unittest.runner.TextTestResult run=4 errors=0 failures=0>"
      ]
     },
     "execution_count": 26,
     "metadata": {},
     "output_type": "execute_result"
    }
   ],
   "source": [
    "from asl_test_model_selectors import TestSelectors\n",
    "suite = unittest.TestLoader().loadTestsFromModule(TestSelectors())\n",
    "unittest.TextTestRunner().run(suite)"
   ]
  },
  {
   "cell_type": "markdown",
   "metadata": {
    "collapsed": false,
    "deletable": true,
    "editable": true
   },
   "source": [
    "<a id='part3_tutorial'></a>\n",
    "## PART 3: Recognizer\n",
    "The objective of this section is to \"put it all together\".  Using the four feature sets created and the three model selectors, you will experiment with the models and present your results.  Instead of training only five specific words as in the previous section, train the entire set with a feature set and model selector strategy.  \n",
    "### Recognizer Tutorial\n",
    "##### Train the full training set\n",
    "The following example trains the entire set with the example `features_ground` features and `SelectorConstant` model selector.  Use this pattern for you experimentation and final submission cells.\n",
    "\n"
   ]
  },
  {
   "cell_type": "code",
   "execution_count": null,
   "metadata": {
    "collapsed": true
   },
   "outputs": [],
   "source": [
    "# autoreload for automatically reloading changes made in my_model_selectors and my_recognizer\n",
    "%load_ext autoreload\n",
    "%autoreload 2"
   ]
  },
  {
   "cell_type": "code",
   "execution_count": 27,
   "metadata": {
    "collapsed": false,
    "deletable": true,
    "editable": true
   },
   "outputs": [
    {
     "name": "stdout",
     "output_type": "stream",
     "text": [
      "Number of word models returned = 112\n"
     ]
    }
   ],
   "source": [
    "from my_model_selectors import SelectorConstant\n",
    "\n",
    "def train_all_words(features, model_selector):\n",
    "    training = asl.build_training(features)  # Experiment here with different feature sets defined in part 1\n",
    "    sequences = training.get_all_sequences()\n",
    "    Xlengths = training.get_all_Xlengths()\n",
    "    model_dict = {}\n",
    "    for word in training.words:\n",
    "        model = model_selector(sequences, Xlengths, word, \n",
    "                        n_constant=3).select()\n",
    "        model_dict[word]=model\n",
    "    return model_dict\n",
    "\n",
    "models = train_all_words(features_ground, SelectorConstant)\n",
    "print(\"Number of word models returned = {}\".format(len(models)))"
   ]
  },
  {
   "cell_type": "markdown",
   "metadata": {
    "deletable": true,
    "editable": true
   },
   "source": [
    "##### Load the test set\n",
    "The `build_test` method in `ASLdb` is similar to the `build_training` method already presented, but there are a few differences:\n",
    "- the object is type `SinglesData` \n",
    "- the internal dictionary keys are the index of the test word rather than the word itself\n",
    "- the getter methods are `get_all_sequences`, `get_all_Xlengths`, `get_item_sequences` and `get_item_Xlengths`"
   ]
  },
  {
   "cell_type": "code",
   "execution_count": 28,
   "metadata": {
    "collapsed": false,
    "deletable": true,
    "editable": true
   },
   "outputs": [
    {
     "name": "stdout",
     "output_type": "stream",
     "text": [
      "Number of test set items: 178\n",
      "Number of test set sentences: 40\n"
     ]
    }
   ],
   "source": [
    "test_set = asl.build_test(features_ground)\n",
    "print(\"Number of test set items: {}\".format(test_set.num_items))\n",
    "print(\"Number of test set sentences: {}\".format(len(test_set.sentences_index)))"
   ]
  },
  {
   "cell_type": "markdown",
   "metadata": {
    "deletable": true,
    "editable": true
   },
   "source": [
    "<a id='part3_submission'></a>\n",
    "### Recognizer Implementation Submission\n",
    "For the final project submission, students must implement a recognizer following guidance in the `my_recognizer.py` module.  Experiment with the four feature sets and the three model selection methods (that's 12 possible combinations). You can add and remove cells for experimentation or run the recognizers locally in some other way during your experiments, but retain the results for your discussion.  For submission, you will provide code cells of **only three** interesting combinations for your discussion (see questions below). At least one of these should produce a word error rate of less than 60%, i.e. WER < 0.60 . \n",
    "\n",
    "**Tip:** The hmmlearn library may not be able to train or score all models.  Implement try/except contructs as necessary to eliminate non-viable models from consideration."
   ]
  },
  {
   "cell_type": "code",
   "execution_count": 34,
   "metadata": {
    "collapsed": false,
    "deletable": true,
    "editable": true
   },
   "outputs": [],
   "source": [
    "# TODO implement the recognize method in my_recognizer\n",
    "from my_recognizer import recognize\n",
    "from asl_utils import show_errors"
   ]
  },
  {
   "cell_type": "code",
   "execution_count": 52,
   "metadata": {
    "collapsed": false,
    "deletable": true,
    "editable": true,
    "scrolled": true
   },
   "outputs": [
    {
     "name": "stdout",
     "output_type": "stream",
     "text": [
      "\n",
      "**** WER = 0.5393258426966292\n",
      "Total correct: 82 out of 178\n",
      "Video  Recognized                                                    Correct\n",
      "=====================================================================================================\n",
      "    2: JOHN WRITE HOMEWORK                                           JOHN WRITE HOMEWORK\n",
      "    7: JOHN *STUDENT *GIVE *HOUSE                                    JOHN CAN GO CAN\n",
      "   12: JOHN CAN *GO1 CAN                                             JOHN CAN GO CAN\n",
      "   21: JOHN FISH WONT *MARY *CAR *FUTURE *PARTY *MARY                JOHN FISH WONT EAT BUT CAN EAT CHICKEN\n",
      "   25: JOHN *IX *SHOULD IX IX                                        JOHN LIKE IX IX IX\n",
      "   28: JOHN *MARY IX IX IX                                           JOHN LIKE IX IX IX\n",
      "   30: JOHN *VEGETABLE *PUTASIDE *JOHN IX                            JOHN LIKE IX IX IX\n",
      "   36: *JOHN *JOHN *YESTERDAY IX *TOY1 *MARY                         MARY VEGETABLE KNOW IX LIKE CORN1\n",
      "   40: JOHN *APPLE *JOHN *IX *PUTASIDE                               JOHN IX THINK MARY LOVE\n",
      "   43: JOHN *SHOULD BUY HOUSE                                        JOHN MUST BUY HOUSE\n",
      "   50: *JOHN *SOMETHING-ONE BUY CAR *STOLEN                          FUTURE JOHN BUY CAR SHOULD\n",
      "   54: JOHN *SOMETHING-ONE *SUE BUY HOUSE                            JOHN SHOULD NOT BUY HOUSE\n",
      "   57: JOHN *JOHN *WOMAN *IX                                         JOHN DECIDE VISIT MARY\n",
      "   67: JOHN *IX *SHOULD BUY HOUSE                                    JOHN FUTURE NOT BUY HOUSE\n",
      "   71: JOHN *SOMETHING-ONE VISIT *MOVIE                              JOHN WILL VISIT MARY\n",
      "   74: JOHN *IX *IX *IX                                              JOHN NOT VISIT MARY\n",
      "   77: *JOHN BLAME MARY                                              ANN BLAME MARY\n",
      "   84: *JOHN *GO *GO BOOK                                            IX-1P FIND SOMETHING-ONE BOOK\n",
      "   89: JOHN IX GIVE *BROTHER *THROW *CAR COAT                        JOHN IX GIVE MAN IX NEW COAT\n",
      "   90: JOHN *YESTERDAY IX *SHOULD WOMAN BOOK                         JOHN GIVE IX SOMETHING-ONE WOMAN BOOK\n",
      "   92: JOHN *IX IX *IX WOMAN *HOUSE                                  JOHN GIVE IX SOMETHING-ONE WOMAN BOOK\n",
      "  100: *IX NEW CAR *HOUSE                                            POSS NEW CAR BREAK-DOWN\n",
      "  105: JOHN *IX                                                      JOHN LEG\n",
      "  107: JOHN POSS FRIEND *GIVE *JOHN                                  JOHN POSS FRIEND HAVE CANDY\n",
      "  108: *IX *BOOK                                                     WOMAN ARRIVE\n",
      "  113: *JOHN *PEOPLE *MARY *SHOULD *BUY1                             IX CAR BLUE SUE BUY\n",
      "  119: *JOHN *BUY1 *TOMORROW CAR *PUTASIDE                           SUE BUY IX CAR BLUE\n",
      "  122: JOHN READ BOOK                                                JOHN READ BOOK\n",
      "  139: JOHN BUY *COAT *WHO BOOK                                      JOHN BUY WHAT YESTERDAY BOOK\n",
      "  142: JOHN BUY *GO *MARY BOOK                                       JOHN BUY YESTERDAY WHAT BOOK\n",
      "  158: LOVE *WHO WHO                                                 LOVE JOHN WHO\n",
      "  167: JOHN *BILL *IX *FRIEND *GO1                                   JOHN IX SAY LOVE MARY\n",
      "  171: JOHN *JOHN BLAME                                              JOHN MARY BLAME\n",
      "  174: PEOPLE GROUP GIVE1 *IX TOY                                    PEOPLE GROUP GIVE1 JANA TOY\n",
      "  181: JOHN ARRIVE                                                   JOHN ARRIVE\n",
      "  184: *THROW *GIVE1 *GIVE1 TEACHER *PREFER                          ALL BOY GIVE TEACHER APPLE\n",
      "  189: JOHN *IX *CORN *BOOK                                          JOHN GIVE GIRL BOX\n",
      "  193: *FRANK *YESTERDAY *APPLE BOX                                  JOHN GIVE GIRL BOX\n",
      "  199: *JOHN *LOVE *MARY                                             LIKE CHOCOLATE WHO\n",
      "  201: JOHN *MARY *WHO *NOT *VISIT HOUSE                             JOHN TELL MARY IX-1P BUY HOUSE\n"
     ]
    }
   ],
   "source": [
    "# TODO Choose a feature set and model selector\n",
    "features = features_custom # change as needed\n",
    "model_selector = SelectorBIC # change as needed\n",
    "\n",
    "# TODO Recognize the test set and display the result with the show_errors method\n",
    "models = train_all_words(features, model_selector)\n",
    "test_set = asl.build_test(features)\n",
    "probabilities, guesses = recognize(models, test_set)\n",
    "show_errors(guesses, test_set)"
   ]
  },
  {
   "cell_type": "code",
   "execution_count": 45,
   "metadata": {
    "collapsed": false,
    "deletable": true,
    "editable": true,
    "scrolled": true
   },
   "outputs": [
    {
     "name": "stdout",
     "output_type": "stream",
     "text": [
      "\n",
      "**** WER = 0.5617977528089888\n",
      "Total correct: 78 out of 178\n",
      "Video  Recognized                                                    Correct\n",
      "=====================================================================================================\n",
      "    2: *IX WRITE HOMEWORK                                            JOHN WRITE HOMEWORK\n",
      "    7: JOHN *FRIEND GO *STUDENT                                      JOHN CAN GO CAN\n",
      "   12: JOHN *DECIDE *GO1 CAN                                         JOHN CAN GO CAN\n",
      "   21: JOHN FISH *JOHN *MARY BUT *MOTHER *GO1 *MARY                  JOHN FISH WONT EAT BUT CAN EAT CHICKEN\n",
      "   25: JOHN *LOVE IX IX IX                                           JOHN LIKE IX IX IX\n",
      "   28: JOHN *MARY IX IX IX                                           JOHN LIKE IX IX IX\n",
      "   30: JOHN *VEGETABLE *PUTASIDE IX IX                               JOHN LIKE IX IX IX\n",
      "   36: *JOHN *JOHN *SEARCH-FOR IX *TOY1 *MARY                        MARY VEGETABLE KNOW IX LIKE CORN1\n",
      "   40: *SUE *GIRL *JOHN *IX *PUTASIDE                                JOHN IX THINK MARY LOVE\n",
      "   43: JOHN *IX *HAVE HOUSE                                          JOHN MUST BUY HOUSE\n",
      "   50: *JOHN *NOT BUY CAR *YESTERDAY                                 FUTURE JOHN BUY CAR SHOULD\n",
      "   54: JOHN *GIRL *JOHN *BUT HOUSE                                   JOHN SHOULD NOT BUY HOUSE\n",
      "   57: *SOMETHING-ONE *JOHN *IX *IX                                  JOHN DECIDE VISIT MARY\n",
      "   67: JOHN *IX *IX-1P *HAVE HOUSE                                   JOHN FUTURE NOT BUY HOUSE\n",
      "   71: JOHN *SOMETHING-ONE VISIT MARY                                JOHN WILL VISIT MARY\n",
      "   74: JOHN *IX *GIVE *IX                                            JOHN NOT VISIT MARY\n",
      "   77: *JOHN BLAME MARY                                              ANN BLAME MARY\n",
      "   84: *SHOOT *GIVE1 *IX BOOK                                        IX-1P FIND SOMETHING-ONE BOOK\n",
      "   89: JOHN IX GIVE *IX *THROW *CAR *CAN                             JOHN IX GIVE MAN IX NEW COAT\n",
      "   90: *MARY *IX IX *GIVE1 WOMAN *LOVE                               JOHN GIVE IX SOMETHING-ONE WOMAN BOOK\n",
      "   92: JOHN *IX IX *IX *WHO *STUDENT                                 JOHN GIVE IX SOMETHING-ONE WOMAN BOOK\n",
      "  100: *IX NEW CAR *HOUSE                                            POSS NEW CAR BREAK-DOWN\n",
      "  105: JOHN *IX                                                      JOHN LEG\n",
      "  107: *MARY POSS FRIEND *PUTASIDE *JOHN                             JOHN POSS FRIEND HAVE CANDY\n",
      "  108: *IX *STUDENT                                                  WOMAN ARRIVE\n",
      "  113: *JOHN CAR *JOHN *IX *BUY1                                     IX CAR BLUE SUE BUY\n",
      "  119: *JOHN *BUY1 *JOHN CAR BLUE                                    SUE BUY IX CAR BLUE\n",
      "  122: JOHN *BUT BOOK                                                JOHN READ BOOK\n",
      "  139: JOHN BUY *TEACHER *SOMETHING-ONE BOOK                         JOHN BUY WHAT YESTERDAY BOOK\n",
      "  142: JOHN BUY *GO1 WHAT BOOK                                       JOHN BUY YESTERDAY WHAT BOOK\n",
      "  158: LOVE *WHO *MARY                                               LOVE JOHN WHO\n",
      "  167: JOHN *BILL *IX LOVE *HERE                                     JOHN IX SAY LOVE MARY\n",
      "  171: JOHN *JOHN BLAME                                              JOHN MARY BLAME\n",
      "  174: *CAR GROUP GIVE1 *IX *DECIDE                                  PEOPLE GROUP GIVE1 JANA TOY\n",
      "  181: JOHN ARRIVE                                                   JOHN ARRIVE\n",
      "  184: *THROW BOY *GIVE1 TEACHER *MARY                               ALL BOY GIVE TEACHER APPLE\n",
      "  189: JOHN *IX GIRL *BOOK                                           JOHN GIVE GIRL BOX\n",
      "  193: JOHN *IX *WOMAN BOX                                           JOHN GIVE GIRL BOX\n",
      "  199: *JOHN *FRIEND *MARY                                           LIKE CHOCOLATE WHO\n",
      "  201: JOHN *IX *WHO *POSS BUY HOUSE                                 JOHN TELL MARY IX-1P BUY HOUSE\n"
     ]
    }
   ],
   "source": [
    "features = features_custom # change as needed\n",
    "model_selector = SelectorDIC # change as needed\n",
    "\n",
    "# TODO Recognize the test set and display the result with the show_errors method\n",
    "models = train_all_words(features, model_selector)\n",
    "test_set = asl.build_test(features)\n",
    "probabilities, guesses = recognize(models, test_set)\n",
    "show_errors(guesses, test_set)"
   ]
  },
  {
   "cell_type": "code",
   "execution_count": 48,
   "metadata": {
    "collapsed": false,
    "deletable": true,
    "editable": true
   },
   "outputs": [
    {
     "name": "stdout",
     "output_type": "stream",
     "text": [
      "\n",
      "**** WER = 0.5898876404494382\n",
      "Total correct: 73 out of 178\n",
      "Video  Recognized                                                    Correct\n",
      "=====================================================================================================\n",
      "    2: JOHN WRITE HOMEWORK                                           JOHN WRITE HOMEWORK\n",
      "    7: JOHN *STUDENT *GIVE *TOY                                      JOHN CAN GO CAN\n",
      "   12: JOHN *DECIDE *FUTURE CAN                                      JOHN CAN GO CAN\n",
      "   21: JOHN *LOVE *FUTURE *LOVE *CAR *FUTURE *CANDY *MARY            JOHN FISH WONT EAT BUT CAN EAT CHICKEN\n",
      "   25: JOHN *IX IX IX IX                                             JOHN LIKE IX IX IX\n",
      "   28: JOHN *IX IX IX IX                                             JOHN LIKE IX IX IX\n",
      "   30: JOHN *SHOULD *PUTASIDE *JOHN IX                               JOHN LIKE IX IX IX\n",
      "   36: *JOHN *JOHN *YESTERDAY IX *TOY1 *MARY                         MARY VEGETABLE KNOW IX LIKE CORN1\n",
      "   40: JOHN *APPLE *JOHN *IX *JOHN                                   JOHN IX THINK MARY LOVE\n",
      "   43: JOHN *IX *SOMETHING-ONE HOUSE                                 JOHN MUST BUY HOUSE\n",
      "   50: *JOHN *VEGETABLE BUY CAR *FUTURE                              FUTURE JOHN BUY CAR SHOULD\n",
      "   54: JOHN *GIVE *SUE BUY HOUSE                                     JOHN SHOULD NOT BUY HOUSE\n",
      "   57: *SOMETHING-ONE *IX *WOMAN *IX                                 JOHN DECIDE VISIT MARY\n",
      "   67: JOHN *IX *LOVE *BORROW *BREAK-DOWN                            JOHN FUTURE NOT BUY HOUSE\n",
      "   71: JOHN *SOMETHING-ONE *GO2 *MOVIE                               JOHN WILL VISIT MARY\n",
      "   74: JOHN *IX *GIVE MARY                                           JOHN NOT VISIT MARY\n",
      "   77: *JOHN BLAME MARY                                              ANN BLAME MARY\n",
      "   84: *JOHN *GO *FUTURE BOOK                                        IX-1P FIND SOMETHING-ONE BOOK\n",
      "   89: JOHN IX GIVE *CORN *THROW *CAR COAT                           JOHN IX GIVE MAN IX NEW COAT\n",
      "   90: JOHN *IX IX *IX WOMAN *LOVE                                   JOHN GIVE IX SOMETHING-ONE WOMAN BOOK\n",
      "   92: JOHN *IX IX *IX WOMAN *FISH                                   JOHN GIVE IX SOMETHING-ONE WOMAN BOOK\n",
      "  100: *IX NEW CAR BREAK-DOWN                                        POSS NEW CAR BREAK-DOWN\n",
      "  105: JOHN *IX                                                      JOHN LEG\n",
      "  107: JOHN POSS FRIEND HAVE *JOHN                                   JOHN POSS FRIEND HAVE CANDY\n",
      "  108: WOMAN *BOOK                                                   WOMAN ARRIVE\n",
      "  113: *JOHN *PEOPLE *MARY *SHOULD *BUY1                             IX CAR BLUE SUE BUY\n",
      "  119: *IX *BUY1 *TOMORROW *PEOPLE *YESTERDAY                        SUE BUY IX CAR BLUE\n",
      "  122: JOHN *FISH *STOLEN                                            JOHN READ BOOK\n",
      "  139: JOHN BUY *CHINA *WHO *LOVE                                    JOHN BUY WHAT YESTERDAY BOOK\n",
      "  142: JOHN BUY *TOMORROW *MARY *STOLEN                              JOHN BUY YESTERDAY WHAT BOOK\n",
      "  158: LOVE *MARY WHO                                                LOVE JOHN WHO\n",
      "  167: JOHN *GIVE1 *NOT *FRIEND *GO1                                 JOHN IX SAY LOVE MARY\n",
      "  171: JOHN *JOHN BLAME                                              JOHN MARY BLAME\n",
      "  174: *CAR GROUP GIVE1 *MARY *WANT                                  PEOPLE GROUP GIVE1 JANA TOY\n",
      "  181: *IX ARRIVE                                                    JOHN ARRIVE\n",
      "  184: *THROW BOY *GIVE1 TEACHER *MARY                               ALL BOY GIVE TEACHER APPLE\n",
      "  189: JOHN *IX *NOT *BOOK                                           JOHN GIVE GIRL BOX\n",
      "  193: JOHN *POSS *NOT BOX                                           JOHN GIVE GIRL BOX\n",
      "  199: *JOHN *HAVE *MARY                                             LIKE CHOCOLATE WHO\n",
      "  201: JOHN *MARY *WHO *IX BUY HOUSE                                 JOHN TELL MARY IX-1P BUY HOUSE\n"
     ]
    }
   ],
   "source": [
    "features = features_custom # change as needed\n",
    "model_selector = SelectorCV # change as needed\n",
    "\n",
    "# TODO Recognize the test set and display the result with the show_errors method\n",
    "models = train_all_words(features, model_selector)\n",
    "test_set = asl.build_test(features)\n",
    "probabilities, guesses = recognize(models, test_set)\n",
    "show_errors(guesses, test_set)"
   ]
  },
  {
   "cell_type": "markdown",
   "metadata": {
    "deletable": true,
    "editable": true
   },
   "source": [
    "**Question 3:**  Summarize the error results from three combinations of features and model selectors.  What was the \"best\" combination and why?  What additional information might we use to improve our WER?  For more insight on improving WER, take a look at the introduction to Part 4.\n",
    "\n",
    "**Answer 3:**"
   ]
  },
  {
   "cell_type": "markdown",
   "metadata": {
    "deletable": true,
    "editable": true
   },
   "source": [
    "<a id='part3_test'></a>\n",
    "### Recognizer Unit Tests\n",
    "Run the following unit tests as a sanity check on the defined recognizer.  The test simply looks for some valid values but is not exhaustive. However, the project should not be submitted if these tests don't pass."
   ]
  },
  {
   "cell_type": "code",
   "execution_count": 47,
   "metadata": {
    "collapsed": false,
    "deletable": true,
    "editable": true
   },
   "outputs": [
    {
     "name": "stderr",
     "output_type": "stream",
     "text": [
      "..\n",
      "----------------------------------------------------------------------\n",
      "Ran 2 tests in 23.231s\n",
      "\n",
      "OK\n"
     ]
    },
    {
     "data": {
      "text/plain": [
       "<unittest.runner.TextTestResult run=2 errors=0 failures=0>"
      ]
     },
     "execution_count": 47,
     "metadata": {},
     "output_type": "execute_result"
    }
   ],
   "source": [
    "from asl_test_recognizer import TestRecognize\n",
    "suite = unittest.TestLoader().loadTestsFromModule(TestRecognize())\n",
    "unittest.TextTestRunner().run(suite)"
   ]
  },
  {
   "cell_type": "markdown",
   "metadata": {
    "deletable": true,
    "editable": true
   },
   "source": [
    "<a id='part4_info'></a>\n",
    "## PART 4: (OPTIONAL)  Improve the WER with Language Models\n",
    "We've squeezed just about as much as we can out of the model and still only get about 50% of the words right! Surely we can do better than that.  Probability to the rescue again in the form of [statistical language models (SLM)](https://en.wikipedia.org/wiki/Language_model).  The basic idea is that each word has some probability of occurrence within the set, and some probability that it is adjacent to specific other words. We can use that additional information to make better choices.\n",
    "\n",
    "##### Additional reading and resources\n",
    "- [Introduction to N-grams (Stanford Jurafsky slides)](https://web.stanford.edu/class/cs124/lec/languagemodeling.pdf)\n",
    "- [Speech Recognition Techniques for a Sign Language Recognition System, Philippe Dreuw et al](https://www-i6.informatik.rwth-aachen.de/publications/download/154/Dreuw--2007.pdf) see the improved results of applying LM on *this* data!\n",
    "- [SLM data for *this* ASL dataset](ftp://wasserstoff.informatik.rwth-aachen.de/pub/rwth-boston-104/lm/)\n",
    "\n",
    "##### Optional challenge\n",
    "The recognizer you implemented in Part 3 is equivalent to a \"0-gram\" SLM.  Improve the WER with the SLM data provided with the data set in the link above using \"1-gram\", \"2-gram\", and/or \"3-gram\" statistics. The `probabilities` data you've already calculated will be useful and can be turned into a pandas DataFrame if desired (see next cell).  \n",
    "Good luck!  Share your results with the class!"
   ]
  },
  {
   "cell_type": "code",
   "execution_count": null,
   "metadata": {
    "collapsed": true,
    "deletable": true,
    "editable": true
   },
   "outputs": [],
   "source": [
    "# create a DataFrame of log likelihoods for the test word items\n",
    "df_probs = pd.DataFrame(data=probabilities)\n",
    "df_probs.head()"
   ]
  }
 ],
 "metadata": {
  "anaconda-cloud": {},
  "kernelspec": {
   "display_name": "Python 3",
   "language": "python",
   "name": "python3"
  },
  "language_info": {
   "codemirror_mode": {
    "name": "ipython",
    "version": 3
   },
   "file_extension": ".py",
   "mimetype": "text/x-python",
   "name": "python",
   "nbconvert_exporter": "python",
   "pygments_lexer": "ipython3",
   "version": "3.6.0"
  },
  "nbpresent": {
   "slides": {
    "0a2d4faf-9fb8-4cee-853b-ed68b90f3f8a": {
     "id": "0a2d4faf-9fb8-4cee-853b-ed68b90f3f8a",
     "prev": null,
     "regions": {
      "3fb9ce83-fbb2-4995-832a-f8f400734ad3": {
       "attrs": {
        "height": 0.8,
        "width": 0.8,
        "x": 0.1,
        "y": 0.1
       },
       "content": {
        "cell": "1dbb9346-179b-4835-b430-6369d88f1a1b",
        "part": "whole"
       },
       "id": "3fb9ce83-fbb2-4995-832a-f8f400734ad3"
      }
     }
    },
    "1519a4fa-1588-4644-98de-9c43bf0aceb5": {
     "id": "1519a4fa-1588-4644-98de-9c43bf0aceb5",
     "prev": "8a712017-49b7-449f-8264-43a032ace902",
     "regions": {
      "29546121-ed11-44b7-8144-0c44e874098f": {
       "attrs": {
        "height": 0.8,
        "width": 0.8,
        "x": 0.1,
        "y": 0.1
       },
       "content": {
        "cell": "365590a4-6963-4812-a1cf-688f7b6bb9ff",
        "part": "whole"
       },
       "id": "29546121-ed11-44b7-8144-0c44e874098f"
      }
     }
    },
    "176eaccb-15dd-455d-bf07-504213e7aa01": {
     "id": "176eaccb-15dd-455d-bf07-504213e7aa01",
     "prev": "de6b30f4-2463-4901-92ed-aabad78e5e0f",
     "regions": {
      "1542aa9e-dc55-4b90-adef-bf5181872b42": {
       "attrs": {
        "height": 0.8,
        "width": 0.8,
        "x": 0.1,
        "y": 0.1
       },
       "content": {
        "cell": "5c242050-c1f7-4b3b-8103-2ea9d71a40dc",
        "part": "whole"
       },
       "id": "1542aa9e-dc55-4b90-adef-bf5181872b42"
      }
     }
    },
    "19091b36-b0e7-49b1-b501-ec05937e0da9": {
     "id": "19091b36-b0e7-49b1-b501-ec05937e0da9",
     "prev": "1983c02e-fb99-4c05-a728-e0c0ad7c06d8",
     "regions": {
      "6529a31c-8d45-425c-b1d7-d0ac6fca6a32": {
       "attrs": {
        "height": 0.8,
        "width": 0.8,
        "x": 0.1,
        "y": 0.1
       },
       "content": {
        "cell": "e766909d-9421-4aaf-9fb1-bc90d27e49e3",
        "part": "whole"
       },
       "id": "6529a31c-8d45-425c-b1d7-d0ac6fca6a32"
      }
     }
    },
    "1983c02e-fb99-4c05-a728-e0c0ad7c06d8": {
     "id": "1983c02e-fb99-4c05-a728-e0c0ad7c06d8",
     "prev": "176eaccb-15dd-455d-bf07-504213e7aa01",
     "regions": {
      "1c4e605d-7f22-4f30-b3fb-74b2937e7a4a": {
       "attrs": {
        "height": 0.8,
        "width": 0.8,
        "x": 0.1,
        "y": 0.1
       },
       "content": {
        "cell": "4d217204-e5c0-4568-bd30-12c2e41b681d",
        "part": "whole"
       },
       "id": "1c4e605d-7f22-4f30-b3fb-74b2937e7a4a"
      }
     }
    },
    "212b111f-4527-459c-8297-1db5580ee5c9": {
     "id": "212b111f-4527-459c-8297-1db5580ee5c9",
     "prev": "76898529-e49e-4663-8d02-8261dfe1d94b",
     "regions": {
      "2e4bd280-3cd6-47d0-9c81-17737b24053b": {
       "attrs": {
        "height": 0.8,
        "width": 0.8,
        "x": 0.1,
        "y": 0.1
       },
       "content": {
        "cell": "0c316996-9933-4b3d-82ec-259518dc8bc9",
        "part": "whole"
       },
       "id": "2e4bd280-3cd6-47d0-9c81-17737b24053b"
      }
     }
    },
    "23a7337f-a0cf-4ed4-baa9-ec06bfdc0579": {
     "id": "23a7337f-a0cf-4ed4-baa9-ec06bfdc0579",
     "prev": "e76e9a02-54c1-4ec9-80fb-c611ed398122",
     "regions": {
      "b5721d20-d6f8-4ddb-a5aa-eb16f0cc8893": {
       "attrs": {
        "height": 0.8,
        "width": 0.8,
        "x": 0.1,
        "y": 0.1
       },
       "content": {
        "cell": "313015a2-b5a9-4136-a8ea-5d011e47d840",
        "part": "whole"
       },
       "id": "b5721d20-d6f8-4ddb-a5aa-eb16f0cc8893"
      }
     }
    },
    "732f1952-ee54-46fb-8067-099512824296": {
     "id": "732f1952-ee54-46fb-8067-099512824296",
     "prev": "0a2d4faf-9fb8-4cee-853b-ed68b90f3f8a",
     "regions": {
      "f31d4597-08ad-4c46-ad52-4bd2d775c624": {
       "attrs": {
        "height": 0.8,
        "width": 0.8,
        "x": 0.1,
        "y": 0.1
       },
       "content": {
        "cell": "aadfec52-27ca-4541-8920-fa9253d51827",
        "part": "whole"
       },
       "id": "f31d4597-08ad-4c46-ad52-4bd2d775c624"
      }
     }
    },
    "76898529-e49e-4663-8d02-8261dfe1d94b": {
     "id": "76898529-e49e-4663-8d02-8261dfe1d94b",
     "prev": "19091b36-b0e7-49b1-b501-ec05937e0da9",
     "regions": {
      "ec1746fc-aec9-4a7c-8225-9e9ac8d45889": {
       "attrs": {
        "height": 0.8,
        "width": 0.8,
        "x": 0.1,
        "y": 0.1
       },
       "content": {
        "cell": "b3e539be-84e2-49ce-a183-31cfc5c7ce7c",
        "part": "whole"
       },
       "id": "ec1746fc-aec9-4a7c-8225-9e9ac8d45889"
      }
     }
    },
    "8a712017-49b7-449f-8264-43a032ace902": {
     "id": "8a712017-49b7-449f-8264-43a032ace902",
     "prev": "bed9e696-630e-4747-be1c-bc3737ba992f",
     "regions": {
      "1faab517-cd16-4c63-bb01-a67246749d7a": {
       "attrs": {
        "height": 0.8,
        "width": 0.8,
        "x": 0.1,
        "y": 0.1
       },
       "content": {
        "cell": "3f14ddf0-4145-4687-9c33-712c3c32520f",
        "part": "whole"
       },
       "id": "1faab517-cd16-4c63-bb01-a67246749d7a"
      }
     }
    },
    "90af992d-eb6d-4496-b2d2-6aa9a95b6a61": {
     "id": "90af992d-eb6d-4496-b2d2-6aa9a95b6a61",
     "prev": "732f1952-ee54-46fb-8067-099512824296",
     "regions": {
      "4f448bec-5be9-4553-88ae-e35ed7612f25": {
       "attrs": {
        "height": 0.8,
        "width": 0.8,
        "x": 0.1,
        "y": 0.1
       },
       "content": {
        "cell": "c445fbfb-b8ab-4e9a-8d13-12231a1c588f",
        "part": "whole"
       },
       "id": "4f448bec-5be9-4553-88ae-e35ed7612f25"
      }
     }
    },
    "bed9e696-630e-4747-be1c-bc3737ba992f": {
     "id": "bed9e696-630e-4747-be1c-bc3737ba992f",
     "prev": "23a7337f-a0cf-4ed4-baa9-ec06bfdc0579",
     "regions": {
      "ac1513f0-404f-492b-8b42-0313e9a753b0": {
       "attrs": {
        "height": 0.8,
        "width": 0.8,
        "x": 0.1,
        "y": 0.1
       },
       "content": {
        "cell": "18dd2eee-8b6c-4a5e-9539-132d00a7c7e1",
        "part": "whole"
       },
       "id": "ac1513f0-404f-492b-8b42-0313e9a753b0"
      }
     }
    },
    "de6b30f4-2463-4901-92ed-aabad78e5e0f": {
     "id": "de6b30f4-2463-4901-92ed-aabad78e5e0f",
     "prev": "e36b4639-be8c-46f7-a8c9-bcfb134f9fd0",
     "regions": {
      "55ec36e0-362f-4fd3-8060-7cee056039aa": {
       "attrs": {
        "height": 0.8,
        "width": 0.8,
        "x": 0.1,
        "y": 0.1
       },
       "content": {
        "cell": "c3cf461e-4c9e-4dec-99d2-07bfa79cbe23",
        "part": "whole"
       },
       "id": "55ec36e0-362f-4fd3-8060-7cee056039aa"
      }
     }
    },
    "e36b4639-be8c-46f7-a8c9-bcfb134f9fd0": {
     "id": "e36b4639-be8c-46f7-a8c9-bcfb134f9fd0",
     "prev": "1519a4fa-1588-4644-98de-9c43bf0aceb5",
     "regions": {
      "4c1e9714-9ba0-45fd-8a2f-ef80a5c85c2e": {
       "attrs": {
        "height": 0.8,
        "width": 0.8,
        "x": 0.1,
        "y": 0.1
       },
       "content": {
        "cell": "6534d4dc-125f-47e6-a022-cf1e0d277174",
        "part": "whole"
       },
       "id": "4c1e9714-9ba0-45fd-8a2f-ef80a5c85c2e"
      }
     }
    },
    "e76e9a02-54c1-4ec9-80fb-c611ed398122": {
     "id": "e76e9a02-54c1-4ec9-80fb-c611ed398122",
     "prev": "90af992d-eb6d-4496-b2d2-6aa9a95b6a61",
     "regions": {
      "9491b84d-193b-40ff-9321-d21eb1ba88d4": {
       "attrs": {
        "height": 0.8,
        "width": 0.8,
        "x": 0.1,
        "y": 0.1
       },
       "content": {
        "cell": "b64ec10e-fa9d-4f3f-907f-6799611ed6b1",
        "part": "whole"
       },
       "id": "9491b84d-193b-40ff-9321-d21eb1ba88d4"
      }
     }
    }
   },
   "themes": {}
  }
 },
 "nbformat": 4,
 "nbformat_minor": 0
}
