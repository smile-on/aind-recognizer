{
 "cells": [
  {
   "cell_type": "markdown",
   "metadata": {},
   "source": [
    "## ASL recognizer homework\n",
    "### part 3 "
   ]
  },
  {
   "cell_type": "code",
   "execution_count": null,
   "metadata": {
    "collapsed": true
   },
   "outputs": [],
   "source": [
    "import warnings\n",
    "from hmmlearn.hmm import GaussianHMM\n"
   ]
  },
  {
   "cell_type": "code",
   "execution_count": null,
   "metadata": {
    "collapsed": true
   },
   "outputs": [],
   "source": [
    "from my_model_selectors import (SelectorConstant, SelectorBIC, SelectorDIC, SelectorCV)\n",
    "\n",
    "features_ground = ['grnd-rx','grnd-ry','grnd-lx','grnd-ly']\n",
    "features_norm = ['norm-rx', 'norm-ry', 'norm-lx','norm-ly']\n",
    "features_polar = ['polar-rr', 'polar-rtheta', 'polar-lr', 'polar-ltheta']\n",
    "features_delta = ['delta-rx', 'delta-ry', 'delta-lx', 'delta-ly']\n",
    "features_custom = ['delta-rr', 'delta-rtheta', 'delta-lr', 'delta-ltheta']\n",
    "\n",
    "def evaluate(features, model_selector):\n",
    "    models = train_all_words(features, model_selector)\n",
    "    test_set = asl.build_test(features)\n",
    "    probabilities, guesses = recognize(models, test_set)\n",
    "    wer = show_errors(guesses, test_set)\n",
    "    return wer\n",
    "\n",
    "features = {'features_ground': features_ground, 'features_norm': features_norm,\n",
    "            'features_polar': features_polar, 'features_delta': features_delta,\n",
    "            'features_custom': features_custom }\n",
    "selectors = {'SelectorBIC': SelectorBIC, 'SelectorDIC': SelectorDIC, 'SelectorCV': SelectorCV }\n",
    "rs = dict()\n",
    "for f in features:\n",
    "    for s in selectors:\n",
    "        wer = evaluate(features[f], selectors[s])\n",
    "        rs[(f, s)] = round(wer, 2)\n",
    "    \n",
    "print('\\n================================================================================================\\n')\n",
    "print(f'wer {rs}')\n"
   ]
  },
  {
   "cell_type": "markdown",
   "metadata": {},
   "source": [
    "results\n",
    "\n",
    "| Selector   |features_ground|features_norm|features_polar|features_delta|features_custom|\n",
    "|------------|:-------------:|:-----------:|:------------:|:------------:|:-------------:|\n",
    "| SelectorBIC| <span style=\"color:blue\">0.56</span>| 0.63| <span style=\"color:blue\">0.54</span>| 0.62| <span style=\"color:blue\">0.54</span>|\n",
    "| SelectorDIC| 0.57| <span style=\"color:blue\">0.60</span>| <span style=\"color:blue\">0.54</span>| 0.63| 0.56|\n",
    "| SelectorCV | 0.58| 0.67| 0.60| <span style=\"color:blue\">0.60</span>| 0.59|\n",
    "\n",
    "\n"
   ]
  }
 ],
 "metadata": {
  "kernelspec": {
   "display_name": "Python 3",
   "language": "python",
   "name": "python3"
  },
  "language_info": {
   "codemirror_mode": {
    "name": "ipython",
    "version": 3
   },
   "file_extension": ".py",
   "mimetype": "text/x-python",
   "name": "python",
   "nbconvert_exporter": "python",
   "pygments_lexer": "ipython3",
   "version": "3.6.0"
  }
 },
 "nbformat": 4,
 "nbformat_minor": 2
}
